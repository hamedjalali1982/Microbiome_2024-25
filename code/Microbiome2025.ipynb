{
  "nbformat": 4,
  "nbformat_minor": 0,
  "metadata": {
    "colab": {
      "provenance": []
    },
    "kernelspec": {
      "name": "ir",
      "display_name": "R"
    },
    "language_info": {
      "name": "R"
    }
  },
  "cells": [
    {
      "cell_type": "markdown",
      "source": [
        "*  We use `library()` to load in the packages that we need.\n",
        "* `Tidyverse` is an R programming package that helps to transform and better present data. It assists with data import, tidying, manipulation, and data visualization."
      ],
      "metadata": {
        "id": "pJhg-7kIefYw"
      }
    },
    {
      "cell_type": "code",
      "execution_count": null,
      "metadata": {
        "id": "6hMjJbVY7b5g"
      },
      "outputs": [],
      "source": [
        "library(tidyverse)"
      ]
    },
    {
      "cell_type": "markdown",
      "source": [
        "---"
      ],
      "metadata": {
        "id": "zi2Q9-rcmP4V"
      }
    },
    {
      "cell_type": "markdown",
      "source": [
        "## **Loading the data**"
      ],
      "metadata": {
        "id": "UfHRS5SZ-kbR"
      }
    },
    {
      "cell_type": "code",
      "source": [
        "counts <- read.csv(file= url(\"https://raw.githubusercontent.com/hamedjalali1982/Microbiome_2024-25/main/data/data.csv\"), sep=\",\", header = TRUE)\n",
        "sampleinfo <- read.csv(file= url(\"https://raw.githubusercontent.com/hamedjalali1982/Microbiome_2024-25/main/data/metadata.csv\"), sep=\",\",header = TRUE)"
      ],
      "metadata": {
        "id": "_cPDo7Vueznr"
      },
      "execution_count": null,
      "outputs": []
    },
    {
      "cell_type": "markdown",
      "source": [
        "# **Getting to know the data**"
      ],
      "metadata": {
        "id": "wCQjYkLCMGbV"
      }
    },
    {
      "cell_type": "markdown",
      "source": [
        "### **Explore the data frame**\n",
        "\n"
      ],
      "metadata": {
        "id": "u-1p-8i--6Je"
      }
    },
    {
      "cell_type": "markdown",
      "source": [
        "These functions are helpful for quickly inspecting the structure and content of data objects in R.\n",
        "\n",
        "*   `summary()`: Summarizes the values in a vector or data frame, providing\n",
        "statistics such as minimum, 1st quartile, median, mean, 3rd quartile, and maximum.\n",
        "\n",
        "*   `head()`: Displays the first few rows of a data frame or vector.\n",
        "\n",
        "*   `tail()`: Displays the last few rows of a data frame or vector.\n",
        "\n",
        "*   `str()`: Displays the structure of a data frame or vector, including the\n",
        "     data type and the first few entries.\n",
        "*   `dim()`: the number of rows and columns in the data frame (the dimensions of the object)\n",
        "*   `names()` (or `colnames()` for data frames): Returns the column names of a\n",
        "     data frame.\n",
        "\n",
        "*   `rownames()`: Returns the row names of a data frame."
      ],
      "metadata": {
        "id": "fzm3p9BbAdqN"
      }
    },
    {
      "cell_type": "code",
      "source": [
        "head(counts,10)"
      ],
      "metadata": {
        "id": "XhZQnpZp9bmf",
        "colab": {
          "base_uri": "https://localhost:8080/",
          "height": 411
        },
        "outputId": "d1c6ef3f-c897-4ef8-801f-40301e4fb58e"
      },
      "execution_count": null,
      "outputs": [
        {
          "output_type": "display_data",
          "data": {
            "text/html": [
              "<table class=\"dataframe\">\n",
              "<caption>A data.frame: 10 × 14</caption>\n",
              "<thead>\n",
              "\t<tr><th></th><th scope=col>X</th><th scope=col>gene_symbol</th><th scope=col>GSM1480291</th><th scope=col>GSM1480292</th><th scope=col>GSM1480293</th><th scope=col>GSM1480294</th><th scope=col>GSM1480295</th><th scope=col>GSM1480296</th><th scope=col>GSM1480297</th><th scope=col>GSM1480298</th><th scope=col>GSM1480299</th><th scope=col>GSM1480300</th><th scope=col>GSM1480301</th><th scope=col>GSM1480302</th></tr>\n",
              "\t<tr><th></th><th scope=col>&lt;chr&gt;</th><th scope=col>&lt;chr&gt;</th><th scope=col>&lt;dbl&gt;</th><th scope=col>&lt;dbl&gt;</th><th scope=col>&lt;dbl&gt;</th><th scope=col>&lt;dbl&gt;</th><th scope=col>&lt;dbl&gt;</th><th scope=col>&lt;dbl&gt;</th><th scope=col>&lt;dbl&gt;</th><th scope=col>&lt;dbl&gt;</th><th scope=col>&lt;dbl&gt;</th><th scope=col>&lt;dbl&gt;</th><th scope=col>&lt;dbl&gt;</th><th scope=col>&lt;dbl&gt;</th></tr>\n",
              "</thead>\n",
              "<tbody>\n",
              "\t<tr><th scope=row>1</th><td>ENSMUSG00000000001</td><td>Gnai3</td><td> 243.28596</td><td> 255.66037</td><td> 239.73819</td><td> 217.10047</td><td>  84.74389</td><td>  84.59855</td><td>175.03566</td><td>187.48789</td><td> 176.66285</td><td>169.09410</td><td> 158.44710</td><td> 133.59160</td></tr>\n",
              "\t<tr><th scope=row>2</th><td>ENSMUSG00000000003</td><td>Pbsn </td><td>   0.00000</td><td>   0.00000</td><td>   0.00000</td><td>   0.00000</td><td>   0.00000</td><td>   0.00000</td><td>  0.00000</td><td>  0.00000</td><td>   0.00000</td><td>  0.00000</td><td>   0.00000</td><td>   0.00000</td></tr>\n",
              "\t<tr><th scope=row>3</th><td>ENSMUSG00000000028</td><td>Cdc45</td><td>  11.18453</td><td>  13.78314</td><td>  11.60091</td><td>   4.27180</td><td>   8.35011</td><td>   8.19949</td><td> 12.10863</td><td> 11.09874</td><td>   7.53319</td><td>  7.09890</td><td>   1.98114</td><td>   2.88361</td></tr>\n",
              "\t<tr><th scope=row>4</th><td>ENSMUSG00000000031</td><td>H19  </td><td>   6.30808</td><td>   8.53042</td><td>   7.09408</td><td>  11.03901</td><td>   0.19419</td><td>   0.00000</td><td>  2.11801</td><td>  1.19067</td><td>   1.54527</td><td>  0.86673</td><td>  10.83023</td><td>   5.76722</td></tr>\n",
              "\t<tr><th scope=row>5</th><td>ENSMUSG00000000037</td><td>Scml2</td><td>   2.19217</td><td>   4.66442</td><td>   2.79590</td><td>   2.49541</td><td>   1.24281</td><td>   0.85492</td><td>  5.79456</td><td>  8.80245</td><td>   9.81246</td><td>  7.47035</td><td>   7.57235</td><td>   9.87992</td></tr>\n",
              "\t<tr><th scope=row>6</th><td>ENSMUSG00000000049</td><td>Apoh </td><td>   0.22369</td><td>   0.08404</td><td>   0.00000</td><td>   0.00000</td><td>   0.00000</td><td>   0.00000</td><td>  0.19981</td><td>  0.17010</td><td>   0.03863</td><td>  0.04127</td><td>   0.26415</td><td>   0.04727</td></tr>\n",
              "\t<tr><th scope=row>7</th><td>ENSMUSG00000000056</td><td>Narf </td><td>  11.27401</td><td>  14.74964</td><td>  26.16464</td><td>  18.82130</td><td>  14.71949</td><td>  13.91193</td><td> 30.65122</td><td> 21.68719</td><td>  18.31143</td><td>  9.03871</td><td>  18.62271</td><td>  18.53075</td></tr>\n",
              "\t<tr><th scope=row>8</th><td>ENSMUSG00000000058</td><td>Cav2 </td><td> 118.24288</td><td> 112.70235</td><td>  50.53489</td><td>  63.40027</td><td> 186.22683</td><td> 157.84994</td><td>122.68481</td><td>116.38792</td><td> 151.39771</td><td>153.28667</td><td> 209.42841</td><td> 221.04541</td></tr>\n",
              "\t<tr><th scope=row>9</th><td>ENSMUSG00000000078</td><td>Klf6 </td><td>2036.16657</td><td>2230.26276</td><td>1902.63241</td><td>1959.61407</td><td>1094.01954</td><td>1096.16718</td><td>903.15201</td><td>890.83323</td><td>1017.86852</td><td>997.39516</td><td>1741.68536</td><td>1958.44535</td></tr>\n",
              "\t<tr><th scope=row>10</th><td>ENSMUSG00000000085</td><td>Scmh1</td><td>  33.68781</td><td>  38.70204</td><td>   9.18057</td><td>   9.43180</td><td>   3.92261</td><td>   3.26425</td><td> 40.60188</td><td> 47.54172</td><td>  36.66150</td><td> 36.27867</td><td>  49.26432</td><td>  62.68311</td></tr>\n",
              "</tbody>\n",
              "</table>\n"
            ],
            "text/markdown": "\nA data.frame: 10 × 14\n\n| <!--/--> | X &lt;chr&gt; | gene_symbol &lt;chr&gt; | GSM1480291 &lt;dbl&gt; | GSM1480292 &lt;dbl&gt; | GSM1480293 &lt;dbl&gt; | GSM1480294 &lt;dbl&gt; | GSM1480295 &lt;dbl&gt; | GSM1480296 &lt;dbl&gt; | GSM1480297 &lt;dbl&gt; | GSM1480298 &lt;dbl&gt; | GSM1480299 &lt;dbl&gt; | GSM1480300 &lt;dbl&gt; | GSM1480301 &lt;dbl&gt; | GSM1480302 &lt;dbl&gt; |\n|---|---|---|---|---|---|---|---|---|---|---|---|---|---|---|\n| 1 | ENSMUSG00000000001 | Gnai3 |  243.28596 |  255.66037 |  239.73819 |  217.10047 |   84.74389 |   84.59855 | 175.03566 | 187.48789 |  176.66285 | 169.09410 |  158.44710 |  133.59160 |\n| 2 | ENSMUSG00000000003 | Pbsn  |    0.00000 |    0.00000 |    0.00000 |    0.00000 |    0.00000 |    0.00000 |   0.00000 |   0.00000 |    0.00000 |   0.00000 |    0.00000 |    0.00000 |\n| 3 | ENSMUSG00000000028 | Cdc45 |   11.18453 |   13.78314 |   11.60091 |    4.27180 |    8.35011 |    8.19949 |  12.10863 |  11.09874 |    7.53319 |   7.09890 |    1.98114 |    2.88361 |\n| 4 | ENSMUSG00000000031 | H19   |    6.30808 |    8.53042 |    7.09408 |   11.03901 |    0.19419 |    0.00000 |   2.11801 |   1.19067 |    1.54527 |   0.86673 |   10.83023 |    5.76722 |\n| 5 | ENSMUSG00000000037 | Scml2 |    2.19217 |    4.66442 |    2.79590 |    2.49541 |    1.24281 |    0.85492 |   5.79456 |   8.80245 |    9.81246 |   7.47035 |    7.57235 |    9.87992 |\n| 6 | ENSMUSG00000000049 | Apoh  |    0.22369 |    0.08404 |    0.00000 |    0.00000 |    0.00000 |    0.00000 |   0.19981 |   0.17010 |    0.03863 |   0.04127 |    0.26415 |    0.04727 |\n| 7 | ENSMUSG00000000056 | Narf  |   11.27401 |   14.74964 |   26.16464 |   18.82130 |   14.71949 |   13.91193 |  30.65122 |  21.68719 |   18.31143 |   9.03871 |   18.62271 |   18.53075 |\n| 8 | ENSMUSG00000000058 | Cav2  |  118.24288 |  112.70235 |   50.53489 |   63.40027 |  186.22683 |  157.84994 | 122.68481 | 116.38792 |  151.39771 | 153.28667 |  209.42841 |  221.04541 |\n| 9 | ENSMUSG00000000078 | Klf6  | 2036.16657 | 2230.26276 | 1902.63241 | 1959.61407 | 1094.01954 | 1096.16718 | 903.15201 | 890.83323 | 1017.86852 | 997.39516 | 1741.68536 | 1958.44535 |\n| 10 | ENSMUSG00000000085 | Scmh1 |   33.68781 |   38.70204 |    9.18057 |    9.43180 |    3.92261 |    3.26425 |  40.60188 |  47.54172 |   36.66150 |  36.27867 |   49.26432 |   62.68311 |\n\n",
            "text/latex": "A data.frame: 10 × 14\n\\begin{tabular}{r|llllllllllllll}\n  & X & gene\\_symbol & GSM1480291 & GSM1480292 & GSM1480293 & GSM1480294 & GSM1480295 & GSM1480296 & GSM1480297 & GSM1480298 & GSM1480299 & GSM1480300 & GSM1480301 & GSM1480302\\\\\n  & <chr> & <chr> & <dbl> & <dbl> & <dbl> & <dbl> & <dbl> & <dbl> & <dbl> & <dbl> & <dbl> & <dbl> & <dbl> & <dbl>\\\\\n\\hline\n\t1 & ENSMUSG00000000001 & Gnai3 &  243.28596 &  255.66037 &  239.73819 &  217.10047 &   84.74389 &   84.59855 & 175.03566 & 187.48789 &  176.66285 & 169.09410 &  158.44710 &  133.59160\\\\\n\t2 & ENSMUSG00000000003 & Pbsn  &    0.00000 &    0.00000 &    0.00000 &    0.00000 &    0.00000 &    0.00000 &   0.00000 &   0.00000 &    0.00000 &   0.00000 &    0.00000 &    0.00000\\\\\n\t3 & ENSMUSG00000000028 & Cdc45 &   11.18453 &   13.78314 &   11.60091 &    4.27180 &    8.35011 &    8.19949 &  12.10863 &  11.09874 &    7.53319 &   7.09890 &    1.98114 &    2.88361\\\\\n\t4 & ENSMUSG00000000031 & H19   &    6.30808 &    8.53042 &    7.09408 &   11.03901 &    0.19419 &    0.00000 &   2.11801 &   1.19067 &    1.54527 &   0.86673 &   10.83023 &    5.76722\\\\\n\t5 & ENSMUSG00000000037 & Scml2 &    2.19217 &    4.66442 &    2.79590 &    2.49541 &    1.24281 &    0.85492 &   5.79456 &   8.80245 &    9.81246 &   7.47035 &    7.57235 &    9.87992\\\\\n\t6 & ENSMUSG00000000049 & Apoh  &    0.22369 &    0.08404 &    0.00000 &    0.00000 &    0.00000 &    0.00000 &   0.19981 &   0.17010 &    0.03863 &   0.04127 &    0.26415 &    0.04727\\\\\n\t7 & ENSMUSG00000000056 & Narf  &   11.27401 &   14.74964 &   26.16464 &   18.82130 &   14.71949 &   13.91193 &  30.65122 &  21.68719 &   18.31143 &   9.03871 &   18.62271 &   18.53075\\\\\n\t8 & ENSMUSG00000000058 & Cav2  &  118.24288 &  112.70235 &   50.53489 &   63.40027 &  186.22683 &  157.84994 & 122.68481 & 116.38792 &  151.39771 & 153.28667 &  209.42841 &  221.04541\\\\\n\t9 & ENSMUSG00000000078 & Klf6  & 2036.16657 & 2230.26276 & 1902.63241 & 1959.61407 & 1094.01954 & 1096.16718 & 903.15201 & 890.83323 & 1017.86852 & 997.39516 & 1741.68536 & 1958.44535\\\\\n\t10 & ENSMUSG00000000085 & Scmh1 &   33.68781 &   38.70204 &    9.18057 &    9.43180 &    3.92261 &    3.26425 &  40.60188 &  47.54172 &   36.66150 &  36.27867 &   49.26432 &   62.68311\\\\\n\\end{tabular}\n",
            "text/plain": [
              "   X                  gene_symbol GSM1480291 GSM1480292 GSM1480293 GSM1480294\n",
              "1  ENSMUSG00000000001 Gnai3        243.28596  255.66037  239.73819  217.10047\n",
              "2  ENSMUSG00000000003 Pbsn           0.00000    0.00000    0.00000    0.00000\n",
              "3  ENSMUSG00000000028 Cdc45         11.18453   13.78314   11.60091    4.27180\n",
              "4  ENSMUSG00000000031 H19            6.30808    8.53042    7.09408   11.03901\n",
              "5  ENSMUSG00000000037 Scml2          2.19217    4.66442    2.79590    2.49541\n",
              "6  ENSMUSG00000000049 Apoh           0.22369    0.08404    0.00000    0.00000\n",
              "7  ENSMUSG00000000056 Narf          11.27401   14.74964   26.16464   18.82130\n",
              "8  ENSMUSG00000000058 Cav2         118.24288  112.70235   50.53489   63.40027\n",
              "9  ENSMUSG00000000078 Klf6        2036.16657 2230.26276 1902.63241 1959.61407\n",
              "10 ENSMUSG00000000085 Scmh1         33.68781   38.70204    9.18057    9.43180\n",
              "   GSM1480295 GSM1480296 GSM1480297 GSM1480298 GSM1480299 GSM1480300 GSM1480301\n",
              "1    84.74389   84.59855 175.03566  187.48789   176.66285 169.09410   158.44710\n",
              "2     0.00000    0.00000   0.00000    0.00000     0.00000   0.00000     0.00000\n",
              "3     8.35011    8.19949  12.10863   11.09874     7.53319   7.09890     1.98114\n",
              "4     0.19419    0.00000   2.11801    1.19067     1.54527   0.86673    10.83023\n",
              "5     1.24281    0.85492   5.79456    8.80245     9.81246   7.47035     7.57235\n",
              "6     0.00000    0.00000   0.19981    0.17010     0.03863   0.04127     0.26415\n",
              "7    14.71949   13.91193  30.65122   21.68719    18.31143   9.03871    18.62271\n",
              "8   186.22683  157.84994 122.68481  116.38792   151.39771 153.28667   209.42841\n",
              "9  1094.01954 1096.16718 903.15201  890.83323  1017.86852 997.39516  1741.68536\n",
              "10    3.92261    3.26425  40.60188   47.54172    36.66150  36.27867    49.26432\n",
              "   GSM1480302\n",
              "1   133.59160\n",
              "2     0.00000\n",
              "3     2.88361\n",
              "4     5.76722\n",
              "5     9.87992\n",
              "6     0.04727\n",
              "7    18.53075\n",
              "8   221.04541\n",
              "9  1958.44535\n",
              "10   62.68311"
            ]
          },
          "metadata": {}
        }
      ]
    },
    {
      "cell_type": "code",
      "source": [
        "str(counts)"
      ],
      "metadata": {
        "id": "3ixovdNJXYpf",
        "colab": {
          "base_uri": "https://localhost:8080/"
        },
        "outputId": "cb52d07e-3b81-4135-ed5f-20de4e4f61c1"
      },
      "execution_count": null,
      "outputs": [
        {
          "output_type": "stream",
          "name": "stdout",
          "text": [
            "'data.frame':\t23735 obs. of  14 variables:\n",
            " $ X          : chr  \"ENSMUSG00000000001\" \"ENSMUSG00000000003\" \"ENSMUSG00000000028\" \"ENSMUSG00000000031\" ...\n",
            " $ gene_symbol: chr  \"Gnai3\" \"Pbsn\" \"Cdc45\" \"H19\" ...\n",
            " $ GSM1480291 : num  243.29 0 11.18 6.31 2.19 ...\n",
            " $ GSM1480292 : num  255.66 0 13.78 8.53 4.66 ...\n",
            " $ GSM1480293 : num  239.74 0 11.6 7.09 2.8 ...\n",
            " $ GSM1480294 : num  217.1 0 4.27 11.04 2.5 ...\n",
            " $ GSM1480295 : num  84.744 0 8.35 0.194 1.243 ...\n",
            " $ GSM1480296 : num  84.599 0 8.199 0 0.855 ...\n",
            " $ GSM1480297 : num  175.04 0 12.11 2.12 5.79 ...\n",
            " $ GSM1480298 : num  187.49 0 11.1 1.19 8.8 ...\n",
            " $ GSM1480299 : num  176.66 0 7.53 1.55 9.81 ...\n",
            " $ GSM1480300 : num  169.094 0 7.099 0.867 7.47 ...\n",
            " $ GSM1480301 : num  158.45 0 1.98 10.83 7.57 ...\n",
            " $ GSM1480302 : num  133.59 0 2.88 5.77 9.88 ...\n"
          ]
        }
      ]
    },
    {
      "cell_type": "code",
      "source": [
        "head(sampleinfo)"
      ],
      "metadata": {
        "id": "-X09qZRI_-O1",
        "colab": {
          "base_uri": "https://localhost:8080/",
          "height": 286
        },
        "outputId": "d35a912a-0416-47b0-c9b4-ec30a5dbb5da"
      },
      "execution_count": null,
      "outputs": [
        {
          "output_type": "display_data",
          "data": {
            "text/html": [
              "<table class=\"dataframe\">\n",
              "<caption>A data.frame: 6 × 4</caption>\n",
              "<thead>\n",
              "\t<tr><th></th><th scope=col>X</th><th scope=col>characteristics</th><th scope=col>immunophenotype</th><th scope=col>developmental.stage</th></tr>\n",
              "\t<tr><th></th><th scope=col>&lt;chr&gt;</th><th scope=col>&lt;chr&gt;</th><th scope=col>&lt;chr&gt;</th><th scope=col>&lt;chr&gt;</th></tr>\n",
              "</thead>\n",
              "<tbody>\n",
              "\t<tr><th scope=row>1</th><td>GSM1480291</td><td>mammary gland, luminal cells, virgin            </td><td>luminal cell population</td><td>virgin            </td></tr>\n",
              "\t<tr><th scope=row>2</th><td>GSM1480292</td><td>mammary gland, luminal cells, virgin            </td><td>luminal cell population</td><td>virgin            </td></tr>\n",
              "\t<tr><th scope=row>3</th><td>GSM1480293</td><td>mammary gland, luminal cells, 18.5 day pregnancy</td><td>luminal cell population</td><td>18.5 day pregnancy</td></tr>\n",
              "\t<tr><th scope=row>4</th><td>GSM1480294</td><td>mammary gland, luminal cells, 18.5 day pregnancy</td><td>luminal cell population</td><td>18.5 day pregnancy</td></tr>\n",
              "\t<tr><th scope=row>5</th><td>GSM1480295</td><td>mammary gland, luminal cells, 2 day lactation   </td><td>luminal cell population</td><td>2 day lactation   </td></tr>\n",
              "\t<tr><th scope=row>6</th><td>GSM1480296</td><td>mammary gland, luminal cells, 2 day lactation   </td><td>luminal cell population</td><td>2 day lactation   </td></tr>\n",
              "</tbody>\n",
              "</table>\n"
            ],
            "text/markdown": "\nA data.frame: 6 × 4\n\n| <!--/--> | X &lt;chr&gt; | characteristics &lt;chr&gt; | immunophenotype &lt;chr&gt; | developmental.stage &lt;chr&gt; |\n|---|---|---|---|---|\n| 1 | GSM1480291 | mammary gland, luminal cells, virgin             | luminal cell population | virgin             |\n| 2 | GSM1480292 | mammary gland, luminal cells, virgin             | luminal cell population | virgin             |\n| 3 | GSM1480293 | mammary gland, luminal cells, 18.5 day pregnancy | luminal cell population | 18.5 day pregnancy |\n| 4 | GSM1480294 | mammary gland, luminal cells, 18.5 day pregnancy | luminal cell population | 18.5 day pregnancy |\n| 5 | GSM1480295 | mammary gland, luminal cells, 2 day lactation    | luminal cell population | 2 day lactation    |\n| 6 | GSM1480296 | mammary gland, luminal cells, 2 day lactation    | luminal cell population | 2 day lactation    |\n\n",
            "text/latex": "A data.frame: 6 × 4\n\\begin{tabular}{r|llll}\n  & X & characteristics & immunophenotype & developmental.stage\\\\\n  & <chr> & <chr> & <chr> & <chr>\\\\\n\\hline\n\t1 & GSM1480291 & mammary gland, luminal cells, virgin             & luminal cell population & virgin            \\\\\n\t2 & GSM1480292 & mammary gland, luminal cells, virgin             & luminal cell population & virgin            \\\\\n\t3 & GSM1480293 & mammary gland, luminal cells, 18.5 day pregnancy & luminal cell population & 18.5 day pregnancy\\\\\n\t4 & GSM1480294 & mammary gland, luminal cells, 18.5 day pregnancy & luminal cell population & 18.5 day pregnancy\\\\\n\t5 & GSM1480295 & mammary gland, luminal cells, 2 day lactation    & luminal cell population & 2 day lactation   \\\\\n\t6 & GSM1480296 & mammary gland, luminal cells, 2 day lactation    & luminal cell population & 2 day lactation   \\\\\n\\end{tabular}\n",
            "text/plain": [
              "  X          characteristics                                 \n",
              "1 GSM1480291 mammary gland, luminal cells, virgin            \n",
              "2 GSM1480292 mammary gland, luminal cells, virgin            \n",
              "3 GSM1480293 mammary gland, luminal cells, 18.5 day pregnancy\n",
              "4 GSM1480294 mammary gland, luminal cells, 18.5 day pregnancy\n",
              "5 GSM1480295 mammary gland, luminal cells, 2 day lactation   \n",
              "6 GSM1480296 mammary gland, luminal cells, 2 day lactation   \n",
              "  immunophenotype         developmental.stage\n",
              "1 luminal cell population virgin             \n",
              "2 luminal cell population virgin             \n",
              "3 luminal cell population 18.5 day pregnancy \n",
              "4 luminal cell population 18.5 day pregnancy \n",
              "5 luminal cell population 2 day lactation    \n",
              "6 luminal cell population 2 day lactation    "
            ]
          },
          "metadata": {}
        }
      ]
    },
    {
      "cell_type": "code",
      "source": [
        "str(sampleinfo)"
      ],
      "metadata": {
        "id": "DEv2bmgXcL2f",
        "colab": {
          "base_uri": "https://localhost:8080/"
        },
        "outputId": "ef237dc8-76c6-498c-8237-353d343f069f"
      },
      "execution_count": null,
      "outputs": [
        {
          "output_type": "stream",
          "name": "stdout",
          "text": [
            "'data.frame':\t12 obs. of  4 variables:\n",
            " $ X                  : chr  \"GSM1480291\" \"GSM1480292\" \"GSM1480293\" \"GSM1480294\" ...\n",
            " $ characteristics    : chr  \"mammary gland, luminal cells, virgin\" \"mammary gland, luminal cells, virgin\" \"mammary gland, luminal cells, 18.5 day pregnancy\" \"mammary gland, luminal cells, 18.5 day pregnancy\" ...\n",
            " $ immunophenotype    : chr  \"luminal cell population\" \"luminal cell population\" \"luminal cell population\" \"luminal cell population\" ...\n",
            " $ developmental.stage: chr  \"virgin\" \"virgin\" \"18.5 day pregnancy\" \"18.5 day pregnancy\" ...\n"
          ]
        }
      ]
    },
    {
      "cell_type": "code",
      "source": [
        "dim(counts)"
      ],
      "metadata": {
        "id": "eanh_6M8_v6M",
        "colab": {
          "base_uri": "https://localhost:8080/",
          "height": 34
        },
        "outputId": "418cbb81-57df-403d-a113-92f272383ff3"
      },
      "execution_count": null,
      "outputs": [
        {
          "output_type": "display_data",
          "data": {
            "text/html": [
              "<style>\n",
              ".list-inline {list-style: none; margin:0; padding: 0}\n",
              ".list-inline>li {display: inline-block}\n",
              ".list-inline>li:not(:last-child)::after {content: \"\\00b7\"; padding: 0 .5ex}\n",
              "</style>\n",
              "<ol class=list-inline><li>23735</li><li>14</li></ol>\n"
            ],
            "text/markdown": "1. 23735\n2. 14\n\n\n",
            "text/latex": "\\begin{enumerate*}\n\\item 23735\n\\item 14\n\\end{enumerate*}\n",
            "text/plain": [
              "[1] 23735    14"
            ]
          },
          "metadata": {}
        }
      ]
    },
    {
      "cell_type": "code",
      "source": [
        "dim(sampleinfo)"
      ],
      "metadata": {
        "id": "t85-_Zkx_OAy",
        "colab": {
          "base_uri": "https://localhost:8080/",
          "height": 34
        },
        "outputId": "5f323b00-d3e4-40d1-e91f-5096b9592e8d"
      },
      "execution_count": null,
      "outputs": [
        {
          "output_type": "display_data",
          "data": {
            "text/html": [
              "<style>\n",
              ".list-inline {list-style: none; margin:0; padding: 0}\n",
              ".list-inline>li {display: inline-block}\n",
              ".list-inline>li:not(:last-child)::after {content: \"\\00b7\"; padding: 0 .5ex}\n",
              "</style>\n",
              "<ol class=list-inline><li>12</li><li>4</li></ol>\n"
            ],
            "text/markdown": "1. 12\n2. 4\n\n\n",
            "text/latex": "\\begin{enumerate*}\n\\item 12\n\\item 4\n\\end{enumerate*}\n",
            "text/plain": [
              "[1] 12  4"
            ]
          },
          "metadata": {}
        }
      ]
    },
    {
      "cell_type": "code",
      "source": [
        "names(sampleinfo)"
      ],
      "metadata": {
        "id": "FSwkLOHEKytd",
        "colab": {
          "base_uri": "https://localhost:8080/",
          "height": 34
        },
        "outputId": "949310f4-4730-48c4-bd96-4eb3dfa0dc1d"
      },
      "execution_count": null,
      "outputs": [
        {
          "output_type": "display_data",
          "data": {
            "text/html": [
              "<style>\n",
              ".list-inline {list-style: none; margin:0; padding: 0}\n",
              ".list-inline>li {display: inline-block}\n",
              ".list-inline>li:not(:last-child)::after {content: \"\\00b7\"; padding: 0 .5ex}\n",
              "</style>\n",
              "<ol class=list-inline><li>'X'</li><li>'characteristics'</li><li>'immunophenotype'</li><li>'developmental.stage'</li></ol>\n"
            ],
            "text/markdown": "1. 'X'\n2. 'characteristics'\n3. 'immunophenotype'\n4. 'developmental.stage'\n\n\n",
            "text/latex": "\\begin{enumerate*}\n\\item 'X'\n\\item 'characteristics'\n\\item 'immunophenotype'\n\\item 'developmental.stage'\n\\end{enumerate*}\n",
            "text/plain": [
              "[1] \"X\"                   \"characteristics\"     \"immunophenotype\"    \n",
              "[4] \"developmental.stage\""
            ]
          },
          "metadata": {}
        }
      ]
    },
    {
      "cell_type": "code",
      "source": [
        "names(sampleinfo)[1] <- \"sample_id\"\n",
        "names(sampleinfo)"
      ],
      "metadata": {
        "id": "ajBvUojale7M",
        "colab": {
          "base_uri": "https://localhost:8080/",
          "height": 34
        },
        "outputId": "9a24c899-1628-49c0-93e7-5c9ab69ee881"
      },
      "execution_count": null,
      "outputs": [
        {
          "output_type": "display_data",
          "data": {
            "text/html": [
              "<style>\n",
              ".list-inline {list-style: none; margin:0; padding: 0}\n",
              ".list-inline>li {display: inline-block}\n",
              ".list-inline>li:not(:last-child)::after {content: \"\\00b7\"; padding: 0 .5ex}\n",
              "</style>\n",
              "<ol class=list-inline><li>'sample_id'</li><li>'characteristics'</li><li>'immunophenotype'</li><li>'developmental.stage'</li></ol>\n"
            ],
            "text/markdown": "1. 'sample_id'\n2. 'characteristics'\n3. 'immunophenotype'\n4. 'developmental.stage'\n\n\n",
            "text/latex": "\\begin{enumerate*}\n\\item 'sample\\_id'\n\\item 'characteristics'\n\\item 'immunophenotype'\n\\item 'developmental.stage'\n\\end{enumerate*}\n",
            "text/plain": [
              "[1] \"sample_id\"           \"characteristics\"     \"immunophenotype\"    \n",
              "[4] \"developmental.stage\""
            ]
          },
          "metadata": {}
        }
      ]
    },
    {
      "cell_type": "code",
      "source": [
        "names(counts)"
      ],
      "metadata": {
        "id": "metem1iil758",
        "colab": {
          "base_uri": "https://localhost:8080/",
          "height": 34
        },
        "outputId": "9e40dace-76b0-4e80-829e-00e5755fcb31"
      },
      "execution_count": null,
      "outputs": [
        {
          "output_type": "display_data",
          "data": {
            "text/html": [
              "<style>\n",
              ".list-inline {list-style: none; margin:0; padding: 0}\n",
              ".list-inline>li {display: inline-block}\n",
              ".list-inline>li:not(:last-child)::after {content: \"\\00b7\"; padding: 0 .5ex}\n",
              "</style>\n",
              "<ol class=list-inline><li>'X'</li><li>'gene_symbol'</li><li>'GSM1480291'</li><li>'GSM1480292'</li><li>'GSM1480293'</li><li>'GSM1480294'</li><li>'GSM1480295'</li><li>'GSM1480296'</li><li>'GSM1480297'</li><li>'GSM1480298'</li><li>'GSM1480299'</li><li>'GSM1480300'</li><li>'GSM1480301'</li><li>'GSM1480302'</li></ol>\n"
            ],
            "text/markdown": "1. 'X'\n2. 'gene_symbol'\n3. 'GSM1480291'\n4. 'GSM1480292'\n5. 'GSM1480293'\n6. 'GSM1480294'\n7. 'GSM1480295'\n8. 'GSM1480296'\n9. 'GSM1480297'\n10. 'GSM1480298'\n11. 'GSM1480299'\n12. 'GSM1480300'\n13. 'GSM1480301'\n14. 'GSM1480302'\n\n\n",
            "text/latex": "\\begin{enumerate*}\n\\item 'X'\n\\item 'gene\\_symbol'\n\\item 'GSM1480291'\n\\item 'GSM1480292'\n\\item 'GSM1480293'\n\\item 'GSM1480294'\n\\item 'GSM1480295'\n\\item 'GSM1480296'\n\\item 'GSM1480297'\n\\item 'GSM1480298'\n\\item 'GSM1480299'\n\\item 'GSM1480300'\n\\item 'GSM1480301'\n\\item 'GSM1480302'\n\\end{enumerate*}\n",
            "text/plain": [
              " [1] \"X\"           \"gene_symbol\" \"GSM1480291\"  \"GSM1480292\"  \"GSM1480293\" \n",
              " [6] \"GSM1480294\"  \"GSM1480295\"  \"GSM1480296\"  \"GSM1480297\"  \"GSM1480298\" \n",
              "[11] \"GSM1480299\"  \"GSM1480300\"  \"GSM1480301\"  \"GSM1480302\" "
            ]
          },
          "metadata": {}
        }
      ]
    },
    {
      "cell_type": "code",
      "source": [
        "names(counts)[1] <- \"gene_id\"\n",
        "names(counts)"
      ],
      "metadata": {
        "id": "lQDMxAXrlvdZ",
        "colab": {
          "base_uri": "https://localhost:8080/",
          "height": 34
        },
        "outputId": "d0ae1a41-9751-48b0-b1c2-5c1df27b4c80"
      },
      "execution_count": null,
      "outputs": [
        {
          "output_type": "display_data",
          "data": {
            "text/html": [
              "<style>\n",
              ".list-inline {list-style: none; margin:0; padding: 0}\n",
              ".list-inline>li {display: inline-block}\n",
              ".list-inline>li:not(:last-child)::after {content: \"\\00b7\"; padding: 0 .5ex}\n",
              "</style>\n",
              "<ol class=list-inline><li>'gene_id'</li><li>'gene_symbol'</li><li>'GSM1480291'</li><li>'GSM1480292'</li><li>'GSM1480293'</li><li>'GSM1480294'</li><li>'GSM1480295'</li><li>'GSM1480296'</li><li>'GSM1480297'</li><li>'GSM1480298'</li><li>'GSM1480299'</li><li>'GSM1480300'</li><li>'GSM1480301'</li><li>'GSM1480302'</li></ol>\n"
            ],
            "text/markdown": "1. 'gene_id'\n2. 'gene_symbol'\n3. 'GSM1480291'\n4. 'GSM1480292'\n5. 'GSM1480293'\n6. 'GSM1480294'\n7. 'GSM1480295'\n8. 'GSM1480296'\n9. 'GSM1480297'\n10. 'GSM1480298'\n11. 'GSM1480299'\n12. 'GSM1480300'\n13. 'GSM1480301'\n14. 'GSM1480302'\n\n\n",
            "text/latex": "\\begin{enumerate*}\n\\item 'gene\\_id'\n\\item 'gene\\_symbol'\n\\item 'GSM1480291'\n\\item 'GSM1480292'\n\\item 'GSM1480293'\n\\item 'GSM1480294'\n\\item 'GSM1480295'\n\\item 'GSM1480296'\n\\item 'GSM1480297'\n\\item 'GSM1480298'\n\\item 'GSM1480299'\n\\item 'GSM1480300'\n\\item 'GSM1480301'\n\\item 'GSM1480302'\n\\end{enumerate*}\n",
            "text/plain": [
              " [1] \"gene_id\"     \"gene_symbol\" \"GSM1480291\"  \"GSM1480292\"  \"GSM1480293\" \n",
              " [6] \"GSM1480294\"  \"GSM1480295\"  \"GSM1480296\"  \"GSM1480297\"  \"GSM1480298\" \n",
              "[11] \"GSM1480299\"  \"GSM1480300\"  \"GSM1480301\"  \"GSM1480302\" "
            ]
          },
          "metadata": {}
        }
      ]
    },
    {
      "cell_type": "markdown",
      "source": [
        "We can access individual columns:\n",
        "\n",
        "*   by name using the `$` symbol\n",
        "*   by calling indices\n",
        "\n",
        "For example we can see what’s contained in the characteristics column."
      ],
      "metadata": {
        "id": "BY0PexoeYD03"
      }
    },
    {
      "cell_type": "code",
      "source": [
        "sampleinfo$characteristics\n",
        "#sampleinfo$characteristics[1:3]"
      ],
      "metadata": {
        "id": "0vQ5g5StjwjP",
        "colab": {
          "base_uri": "https://localhost:8080/",
          "height": 69
        },
        "outputId": "bc9c5b68-5e91-460c-a28a-676b80c85900"
      },
      "execution_count": null,
      "outputs": [
        {
          "output_type": "display_data",
          "data": {
            "text/html": [
              "<style>\n",
              ".list-inline {list-style: none; margin:0; padding: 0}\n",
              ".list-inline>li {display: inline-block}\n",
              ".list-inline>li:not(:last-child)::after {content: \"\\00b7\"; padding: 0 .5ex}\n",
              "</style>\n",
              "<ol class=list-inline><li>'mammary gland, luminal cells, virgin'</li><li>'mammary gland, luminal cells, virgin'</li><li>'mammary gland, luminal cells, 18.5 day pregnancy'</li><li>'mammary gland, luminal cells, 18.5 day pregnancy'</li><li>'mammary gland, luminal cells, 2 day lactation'</li><li>'mammary gland, luminal cells, 2 day lactation'</li><li>'mammary gland, basal cells, virgin'</li><li>'mammary gland, basal cells, virgin'</li><li>'mammary gland, basal cells, 18.5 day pregnancy'</li><li>'mammary gland, basal cells, 18.5 day pregnancy'</li><li>'mammary gland, basal cells, 2 day lactation'</li><li>'mammary gland, basal cells, 2 day lactation'</li></ol>\n"
            ],
            "text/markdown": "1. 'mammary gland, luminal cells, virgin'\n2. 'mammary gland, luminal cells, virgin'\n3. 'mammary gland, luminal cells, 18.5 day pregnancy'\n4. 'mammary gland, luminal cells, 18.5 day pregnancy'\n5. 'mammary gland, luminal cells, 2 day lactation'\n6. 'mammary gland, luminal cells, 2 day lactation'\n7. 'mammary gland, basal cells, virgin'\n8. 'mammary gland, basal cells, virgin'\n9. 'mammary gland, basal cells, 18.5 day pregnancy'\n10. 'mammary gland, basal cells, 18.5 day pregnancy'\n11. 'mammary gland, basal cells, 2 day lactation'\n12. 'mammary gland, basal cells, 2 day lactation'\n\n\n",
            "text/latex": "\\begin{enumerate*}\n\\item 'mammary gland, luminal cells, virgin'\n\\item 'mammary gland, luminal cells, virgin'\n\\item 'mammary gland, luminal cells, 18.5 day pregnancy'\n\\item 'mammary gland, luminal cells, 18.5 day pregnancy'\n\\item 'mammary gland, luminal cells, 2 day lactation'\n\\item 'mammary gland, luminal cells, 2 day lactation'\n\\item 'mammary gland, basal cells, virgin'\n\\item 'mammary gland, basal cells, virgin'\n\\item 'mammary gland, basal cells, 18.5 day pregnancy'\n\\item 'mammary gland, basal cells, 18.5 day pregnancy'\n\\item 'mammary gland, basal cells, 2 day lactation'\n\\item 'mammary gland, basal cells, 2 day lactation'\n\\end{enumerate*}\n",
            "text/plain": [
              " [1] \"mammary gland, luminal cells, virgin\"            \n",
              " [2] \"mammary gland, luminal cells, virgin\"            \n",
              " [3] \"mammary gland, luminal cells, 18.5 day pregnancy\"\n",
              " [4] \"mammary gland, luminal cells, 18.5 day pregnancy\"\n",
              " [5] \"mammary gland, luminal cells, 2 day lactation\"   \n",
              " [6] \"mammary gland, luminal cells, 2 day lactation\"   \n",
              " [7] \"mammary gland, basal cells, virgin\"              \n",
              " [8] \"mammary gland, basal cells, virgin\"              \n",
              " [9] \"mammary gland, basal cells, 18.5 day pregnancy\"  \n",
              "[10] \"mammary gland, basal cells, 18.5 day pregnancy\"  \n",
              "[11] \"mammary gland, basal cells, 2 day lactation\"     \n",
              "[12] \"mammary gland, basal cells, 2 day lactation\"     "
            ]
          },
          "metadata": {}
        }
      ]
    },
    {
      "cell_type": "code",
      "source": [
        "sampleinfo[4,2]\n",
        "#sampleinfo[,2]\n",
        "#sampleinfo[1:3,2]"
      ],
      "metadata": {
        "id": "oIT769SskaEV",
        "colab": {
          "base_uri": "https://localhost:8080/",
          "height": 34
        },
        "outputId": "01d0e648-4f12-4f5c-e488-1dedb73e1ace"
      },
      "execution_count": null,
      "outputs": [
        {
          "output_type": "display_data",
          "data": {
            "text/html": [
              "'mammary gland, luminal cells, 18.5 day pregnancy'"
            ],
            "text/markdown": "'mammary gland, luminal cells, 18.5 day pregnancy'",
            "text/latex": "'mammary gland, luminal cells, 18.5 day pregnancy'",
            "text/plain": [
              "[1] \"mammary gland, luminal cells, 18.5 day pregnancy\""
            ]
          },
          "metadata": {}
        }
      ]
    },
    {
      "cell_type": "markdown",
      "source": [
        "---\n",
        "---"
      ],
      "metadata": {
        "id": "End2A323mUne"
      }
    },
    {
      "cell_type": "markdown",
      "source": [
        "# **Formatting the data**"
      ],
      "metadata": {
        "id": "6W9IESlCmeHz"
      }
    },
    {
      "cell_type": "markdown",
      "source": [
        "**Converting from wide to long format**\n",
        "\n",
        "The data should be converted from wide format into long format to make it easier to work with and plot. The `pivot_longer()` function from the `tidyr` package in `R`can be used to pivot a data frame:\n",
        "\n",
        "`pivot_longer(data, cols = , names_to = \" \", values_to = \" \").`\n",
        "\n",
        "For instance, thisfunction can be used for GEO data set as below:\n",
        "\n",
        "`pivot_longer(counts_data, cols = Sample_1:Samole_4, names_to = \"Sample \", values_to = \"Counts\").`"
      ],
      "metadata": {
        "id": "H0u05Gn_PZRk"
      }
    },
    {
      "cell_type": "markdown",
      "source": [
        "Another alternative for converting data from wide to long is `melt()` function from the `reshape2` package in `R`."
      ],
      "metadata": {
        "id": "kxp1QOFPP3JP"
      }
    },
    {
      "cell_type": "code",
      "source": [
        "seqdata <- pivot_longer(counts, cols = starts_with(\"GSM\"), names_to = \"Sample\", values_to = \"Count\")\n",
        "\n",
        "#seqdata <- pivot_longer(counts, cols = GSM1480291:GSM1480302, names_to = \"Sample\", values_to = \"Count\")\n",
        "#seqdata <- pivot_longer(counts, cols = 3:14, names_to = \"Sample\", values_to = \"Count\")\n",
        "#seqdata <- pivot_longer(counts, cols = -c(\"gene_id\", \"gene_symbol\"), names_to = \"Sample\", values_to = \"Count\")"
      ],
      "metadata": {
        "id": "rdsOS2bqQheF"
      },
      "execution_count": null,
      "outputs": []
    },
    {
      "cell_type": "code",
      "source": [
        "dim(counts)"
      ],
      "metadata": {
        "id": "Nw34Eyq2cBrb",
        "colab": {
          "base_uri": "https://localhost:8080/",
          "height": 34
        },
        "outputId": "4511482e-81ee-4f13-cef0-5f874e7f15eb"
      },
      "execution_count": null,
      "outputs": [
        {
          "output_type": "display_data",
          "data": {
            "text/html": [
              "<style>\n",
              ".list-inline {list-style: none; margin:0; padding: 0}\n",
              ".list-inline>li {display: inline-block}\n",
              ".list-inline>li:not(:last-child)::after {content: \"\\00b7\"; padding: 0 .5ex}\n",
              "</style>\n",
              "<ol class=list-inline><li>23735</li><li>14</li></ol>\n"
            ],
            "text/markdown": "1. 23735\n2. 14\n\n\n",
            "text/latex": "\\begin{enumerate*}\n\\item 23735\n\\item 14\n\\end{enumerate*}\n",
            "text/plain": [
              "[1] 23735    14"
            ]
          },
          "metadata": {}
        }
      ]
    },
    {
      "cell_type": "code",
      "source": [
        "dim(seqdata)"
      ],
      "metadata": {
        "id": "d3dl3gZPcILb",
        "colab": {
          "base_uri": "https://localhost:8080/",
          "height": 34
        },
        "outputId": "5aa8dd9e-17a5-44cb-9300-4bc2e9f71b8c"
      },
      "execution_count": null,
      "outputs": [
        {
          "output_type": "display_data",
          "data": {
            "text/html": [
              "<style>\n",
              ".list-inline {list-style: none; margin:0; padding: 0}\n",
              ".list-inline>li {display: inline-block}\n",
              ".list-inline>li:not(:last-child)::after {content: \"\\00b7\"; padding: 0 .5ex}\n",
              "</style>\n",
              "<ol class=list-inline><li>284820</li><li>4</li></ol>\n"
            ],
            "text/markdown": "1. 284820\n2. 4\n\n\n",
            "text/latex": "\\begin{enumerate*}\n\\item 284820\n\\item 4\n\\end{enumerate*}\n",
            "text/plain": [
              "[1] 284820      4"
            ]
          },
          "metadata": {}
        }
      ]
    },
    {
      "cell_type": "code",
      "source": [
        "head(counts,5)"
      ],
      "metadata": {
        "id": "t6D2UDyZlDaR",
        "colab": {
          "base_uri": "https://localhost:8080/",
          "height": 255
        },
        "outputId": "5eaa6806-57d3-4a62-f19d-e262113facf4"
      },
      "execution_count": null,
      "outputs": [
        {
          "output_type": "display_data",
          "data": {
            "text/html": [
              "<table class=\"dataframe\">\n",
              "<caption>A data.frame: 5 × 14</caption>\n",
              "<thead>\n",
              "\t<tr><th></th><th scope=col>gene_id</th><th scope=col>gene_symbol</th><th scope=col>GSM1480291</th><th scope=col>GSM1480292</th><th scope=col>GSM1480293</th><th scope=col>GSM1480294</th><th scope=col>GSM1480295</th><th scope=col>GSM1480296</th><th scope=col>GSM1480297</th><th scope=col>GSM1480298</th><th scope=col>GSM1480299</th><th scope=col>GSM1480300</th><th scope=col>GSM1480301</th><th scope=col>GSM1480302</th></tr>\n",
              "\t<tr><th></th><th scope=col>&lt;chr&gt;</th><th scope=col>&lt;chr&gt;</th><th scope=col>&lt;dbl&gt;</th><th scope=col>&lt;dbl&gt;</th><th scope=col>&lt;dbl&gt;</th><th scope=col>&lt;dbl&gt;</th><th scope=col>&lt;dbl&gt;</th><th scope=col>&lt;dbl&gt;</th><th scope=col>&lt;dbl&gt;</th><th scope=col>&lt;dbl&gt;</th><th scope=col>&lt;dbl&gt;</th><th scope=col>&lt;dbl&gt;</th><th scope=col>&lt;dbl&gt;</th><th scope=col>&lt;dbl&gt;</th></tr>\n",
              "</thead>\n",
              "<tbody>\n",
              "\t<tr><th scope=row>1</th><td>ENSMUSG00000000001</td><td>Gnai3</td><td>243.28596</td><td>255.66037</td><td>239.73819</td><td>217.10047</td><td>84.74389</td><td>84.59855</td><td>175.03566</td><td>187.48789</td><td>176.66285</td><td>169.09410</td><td>158.44710</td><td>133.59160</td></tr>\n",
              "\t<tr><th scope=row>2</th><td>ENSMUSG00000000003</td><td>Pbsn </td><td>  0.00000</td><td>  0.00000</td><td>  0.00000</td><td>  0.00000</td><td> 0.00000</td><td> 0.00000</td><td>  0.00000</td><td>  0.00000</td><td>  0.00000</td><td>  0.00000</td><td>  0.00000</td><td>  0.00000</td></tr>\n",
              "\t<tr><th scope=row>3</th><td>ENSMUSG00000000028</td><td>Cdc45</td><td> 11.18453</td><td> 13.78314</td><td> 11.60091</td><td>  4.27180</td><td> 8.35011</td><td> 8.19949</td><td> 12.10863</td><td> 11.09874</td><td>  7.53319</td><td>  7.09890</td><td>  1.98114</td><td>  2.88361</td></tr>\n",
              "\t<tr><th scope=row>4</th><td>ENSMUSG00000000031</td><td>H19  </td><td>  6.30808</td><td>  8.53042</td><td>  7.09408</td><td> 11.03901</td><td> 0.19419</td><td> 0.00000</td><td>  2.11801</td><td>  1.19067</td><td>  1.54527</td><td>  0.86673</td><td> 10.83023</td><td>  5.76722</td></tr>\n",
              "\t<tr><th scope=row>5</th><td>ENSMUSG00000000037</td><td>Scml2</td><td>  2.19217</td><td>  4.66442</td><td>  2.79590</td><td>  2.49541</td><td> 1.24281</td><td> 0.85492</td><td>  5.79456</td><td>  8.80245</td><td>  9.81246</td><td>  7.47035</td><td>  7.57235</td><td>  9.87992</td></tr>\n",
              "</tbody>\n",
              "</table>\n"
            ],
            "text/markdown": "\nA data.frame: 5 × 14\n\n| <!--/--> | gene_id &lt;chr&gt; | gene_symbol &lt;chr&gt; | GSM1480291 &lt;dbl&gt; | GSM1480292 &lt;dbl&gt; | GSM1480293 &lt;dbl&gt; | GSM1480294 &lt;dbl&gt; | GSM1480295 &lt;dbl&gt; | GSM1480296 &lt;dbl&gt; | GSM1480297 &lt;dbl&gt; | GSM1480298 &lt;dbl&gt; | GSM1480299 &lt;dbl&gt; | GSM1480300 &lt;dbl&gt; | GSM1480301 &lt;dbl&gt; | GSM1480302 &lt;dbl&gt; |\n|---|---|---|---|---|---|---|---|---|---|---|---|---|---|---|\n| 1 | ENSMUSG00000000001 | Gnai3 | 243.28596 | 255.66037 | 239.73819 | 217.10047 | 84.74389 | 84.59855 | 175.03566 | 187.48789 | 176.66285 | 169.09410 | 158.44710 | 133.59160 |\n| 2 | ENSMUSG00000000003 | Pbsn  |   0.00000 |   0.00000 |   0.00000 |   0.00000 |  0.00000 |  0.00000 |   0.00000 |   0.00000 |   0.00000 |   0.00000 |   0.00000 |   0.00000 |\n| 3 | ENSMUSG00000000028 | Cdc45 |  11.18453 |  13.78314 |  11.60091 |   4.27180 |  8.35011 |  8.19949 |  12.10863 |  11.09874 |   7.53319 |   7.09890 |   1.98114 |   2.88361 |\n| 4 | ENSMUSG00000000031 | H19   |   6.30808 |   8.53042 |   7.09408 |  11.03901 |  0.19419 |  0.00000 |   2.11801 |   1.19067 |   1.54527 |   0.86673 |  10.83023 |   5.76722 |\n| 5 | ENSMUSG00000000037 | Scml2 |   2.19217 |   4.66442 |   2.79590 |   2.49541 |  1.24281 |  0.85492 |   5.79456 |   8.80245 |   9.81246 |   7.47035 |   7.57235 |   9.87992 |\n\n",
            "text/latex": "A data.frame: 5 × 14\n\\begin{tabular}{r|llllllllllllll}\n  & gene\\_id & gene\\_symbol & GSM1480291 & GSM1480292 & GSM1480293 & GSM1480294 & GSM1480295 & GSM1480296 & GSM1480297 & GSM1480298 & GSM1480299 & GSM1480300 & GSM1480301 & GSM1480302\\\\\n  & <chr> & <chr> & <dbl> & <dbl> & <dbl> & <dbl> & <dbl> & <dbl> & <dbl> & <dbl> & <dbl> & <dbl> & <dbl> & <dbl>\\\\\n\\hline\n\t1 & ENSMUSG00000000001 & Gnai3 & 243.28596 & 255.66037 & 239.73819 & 217.10047 & 84.74389 & 84.59855 & 175.03566 & 187.48789 & 176.66285 & 169.09410 & 158.44710 & 133.59160\\\\\n\t2 & ENSMUSG00000000003 & Pbsn  &   0.00000 &   0.00000 &   0.00000 &   0.00000 &  0.00000 &  0.00000 &   0.00000 &   0.00000 &   0.00000 &   0.00000 &   0.00000 &   0.00000\\\\\n\t3 & ENSMUSG00000000028 & Cdc45 &  11.18453 &  13.78314 &  11.60091 &   4.27180 &  8.35011 &  8.19949 &  12.10863 &  11.09874 &   7.53319 &   7.09890 &   1.98114 &   2.88361\\\\\n\t4 & ENSMUSG00000000031 & H19   &   6.30808 &   8.53042 &   7.09408 &  11.03901 &  0.19419 &  0.00000 &   2.11801 &   1.19067 &   1.54527 &   0.86673 &  10.83023 &   5.76722\\\\\n\t5 & ENSMUSG00000000037 & Scml2 &   2.19217 &   4.66442 &   2.79590 &   2.49541 &  1.24281 &  0.85492 &   5.79456 &   8.80245 &   9.81246 &   7.47035 &   7.57235 &   9.87992\\\\\n\\end{tabular}\n",
            "text/plain": [
              "  gene_id            gene_symbol GSM1480291 GSM1480292 GSM1480293 GSM1480294\n",
              "1 ENSMUSG00000000001 Gnai3       243.28596  255.66037  239.73819  217.10047 \n",
              "2 ENSMUSG00000000003 Pbsn          0.00000    0.00000    0.00000    0.00000 \n",
              "3 ENSMUSG00000000028 Cdc45        11.18453   13.78314   11.60091    4.27180 \n",
              "4 ENSMUSG00000000031 H19           6.30808    8.53042    7.09408   11.03901 \n",
              "5 ENSMUSG00000000037 Scml2         2.19217    4.66442    2.79590    2.49541 \n",
              "  GSM1480295 GSM1480296 GSM1480297 GSM1480298 GSM1480299 GSM1480300 GSM1480301\n",
              "1 84.74389   84.59855   175.03566  187.48789  176.66285  169.09410  158.44710 \n",
              "2  0.00000    0.00000     0.00000    0.00000    0.00000    0.00000    0.00000 \n",
              "3  8.35011    8.19949    12.10863   11.09874    7.53319    7.09890    1.98114 \n",
              "4  0.19419    0.00000     2.11801    1.19067    1.54527    0.86673   10.83023 \n",
              "5  1.24281    0.85492     5.79456    8.80245    9.81246    7.47035    7.57235 \n",
              "  GSM1480302\n",
              "1 133.59160 \n",
              "2   0.00000 \n",
              "3   2.88361 \n",
              "4   5.76722 \n",
              "5   9.87992 "
            ]
          },
          "metadata": {}
        }
      ]
    },
    {
      "cell_type": "code",
      "source": [
        "head(seqdata,15)"
      ],
      "metadata": {
        "id": "p6p1s2ASQ-S-",
        "colab": {
          "base_uri": "https://localhost:8080/",
          "height": 568
        },
        "outputId": "fd67fa03-6f4b-448f-9cc2-37e4c1895ceb"
      },
      "execution_count": null,
      "outputs": [
        {
          "output_type": "display_data",
          "data": {
            "text/html": [
              "<table class=\"dataframe\">\n",
              "<caption>A tibble: 15 × 4</caption>\n",
              "<thead>\n",
              "\t<tr><th scope=col>gene_id</th><th scope=col>gene_symbol</th><th scope=col>Sample</th><th scope=col>Count</th></tr>\n",
              "\t<tr><th scope=col>&lt;chr&gt;</th><th scope=col>&lt;chr&gt;</th><th scope=col>&lt;chr&gt;</th><th scope=col>&lt;dbl&gt;</th></tr>\n",
              "</thead>\n",
              "<tbody>\n",
              "\t<tr><td>ENSMUSG00000000001</td><td>Gnai3</td><td>GSM1480291</td><td>243.28596</td></tr>\n",
              "\t<tr><td>ENSMUSG00000000001</td><td>Gnai3</td><td>GSM1480292</td><td>255.66037</td></tr>\n",
              "\t<tr><td>ENSMUSG00000000001</td><td>Gnai3</td><td>GSM1480293</td><td>239.73819</td></tr>\n",
              "\t<tr><td>ENSMUSG00000000001</td><td>Gnai3</td><td>GSM1480294</td><td>217.10047</td></tr>\n",
              "\t<tr><td>ENSMUSG00000000001</td><td>Gnai3</td><td>GSM1480295</td><td> 84.74389</td></tr>\n",
              "\t<tr><td>ENSMUSG00000000001</td><td>Gnai3</td><td>GSM1480296</td><td> 84.59855</td></tr>\n",
              "\t<tr><td>ENSMUSG00000000001</td><td>Gnai3</td><td>GSM1480297</td><td>175.03566</td></tr>\n",
              "\t<tr><td>ENSMUSG00000000001</td><td>Gnai3</td><td>GSM1480298</td><td>187.48789</td></tr>\n",
              "\t<tr><td>ENSMUSG00000000001</td><td>Gnai3</td><td>GSM1480299</td><td>176.66285</td></tr>\n",
              "\t<tr><td>ENSMUSG00000000001</td><td>Gnai3</td><td>GSM1480300</td><td>169.09410</td></tr>\n",
              "\t<tr><td>ENSMUSG00000000001</td><td>Gnai3</td><td>GSM1480301</td><td>158.44710</td></tr>\n",
              "\t<tr><td>ENSMUSG00000000001</td><td>Gnai3</td><td>GSM1480302</td><td>133.59160</td></tr>\n",
              "\t<tr><td>ENSMUSG00000000003</td><td>Pbsn </td><td>GSM1480291</td><td>  0.00000</td></tr>\n",
              "\t<tr><td>ENSMUSG00000000003</td><td>Pbsn </td><td>GSM1480292</td><td>  0.00000</td></tr>\n",
              "\t<tr><td>ENSMUSG00000000003</td><td>Pbsn </td><td>GSM1480293</td><td>  0.00000</td></tr>\n",
              "</tbody>\n",
              "</table>\n"
            ],
            "text/markdown": "\nA tibble: 15 × 4\n\n| gene_id &lt;chr&gt; | gene_symbol &lt;chr&gt; | Sample &lt;chr&gt; | Count &lt;dbl&gt; |\n|---|---|---|---|\n| ENSMUSG00000000001 | Gnai3 | GSM1480291 | 243.28596 |\n| ENSMUSG00000000001 | Gnai3 | GSM1480292 | 255.66037 |\n| ENSMUSG00000000001 | Gnai3 | GSM1480293 | 239.73819 |\n| ENSMUSG00000000001 | Gnai3 | GSM1480294 | 217.10047 |\n| ENSMUSG00000000001 | Gnai3 | GSM1480295 |  84.74389 |\n| ENSMUSG00000000001 | Gnai3 | GSM1480296 |  84.59855 |\n| ENSMUSG00000000001 | Gnai3 | GSM1480297 | 175.03566 |\n| ENSMUSG00000000001 | Gnai3 | GSM1480298 | 187.48789 |\n| ENSMUSG00000000001 | Gnai3 | GSM1480299 | 176.66285 |\n| ENSMUSG00000000001 | Gnai3 | GSM1480300 | 169.09410 |\n| ENSMUSG00000000001 | Gnai3 | GSM1480301 | 158.44710 |\n| ENSMUSG00000000001 | Gnai3 | GSM1480302 | 133.59160 |\n| ENSMUSG00000000003 | Pbsn  | GSM1480291 |   0.00000 |\n| ENSMUSG00000000003 | Pbsn  | GSM1480292 |   0.00000 |\n| ENSMUSG00000000003 | Pbsn  | GSM1480293 |   0.00000 |\n\n",
            "text/latex": "A tibble: 15 × 4\n\\begin{tabular}{llll}\n gene\\_id & gene\\_symbol & Sample & Count\\\\\n <chr> & <chr> & <chr> & <dbl>\\\\\n\\hline\n\t ENSMUSG00000000001 & Gnai3 & GSM1480291 & 243.28596\\\\\n\t ENSMUSG00000000001 & Gnai3 & GSM1480292 & 255.66037\\\\\n\t ENSMUSG00000000001 & Gnai3 & GSM1480293 & 239.73819\\\\\n\t ENSMUSG00000000001 & Gnai3 & GSM1480294 & 217.10047\\\\\n\t ENSMUSG00000000001 & Gnai3 & GSM1480295 &  84.74389\\\\\n\t ENSMUSG00000000001 & Gnai3 & GSM1480296 &  84.59855\\\\\n\t ENSMUSG00000000001 & Gnai3 & GSM1480297 & 175.03566\\\\\n\t ENSMUSG00000000001 & Gnai3 & GSM1480298 & 187.48789\\\\\n\t ENSMUSG00000000001 & Gnai3 & GSM1480299 & 176.66285\\\\\n\t ENSMUSG00000000001 & Gnai3 & GSM1480300 & 169.09410\\\\\n\t ENSMUSG00000000001 & Gnai3 & GSM1480301 & 158.44710\\\\\n\t ENSMUSG00000000001 & Gnai3 & GSM1480302 & 133.59160\\\\\n\t ENSMUSG00000000003 & Pbsn  & GSM1480291 &   0.00000\\\\\n\t ENSMUSG00000000003 & Pbsn  & GSM1480292 &   0.00000\\\\\n\t ENSMUSG00000000003 & Pbsn  & GSM1480293 &   0.00000\\\\\n\\end{tabular}\n",
            "text/plain": [
              "   gene_id            gene_symbol Sample     Count    \n",
              "1  ENSMUSG00000000001 Gnai3       GSM1480291 243.28596\n",
              "2  ENSMUSG00000000001 Gnai3       GSM1480292 255.66037\n",
              "3  ENSMUSG00000000001 Gnai3       GSM1480293 239.73819\n",
              "4  ENSMUSG00000000001 Gnai3       GSM1480294 217.10047\n",
              "5  ENSMUSG00000000001 Gnai3       GSM1480295  84.74389\n",
              "6  ENSMUSG00000000001 Gnai3       GSM1480296  84.59855\n",
              "7  ENSMUSG00000000001 Gnai3       GSM1480297 175.03566\n",
              "8  ENSMUSG00000000001 Gnai3       GSM1480298 187.48789\n",
              "9  ENSMUSG00000000001 Gnai3       GSM1480299 176.66285\n",
              "10 ENSMUSG00000000001 Gnai3       GSM1480300 169.09410\n",
              "11 ENSMUSG00000000001 Gnai3       GSM1480301 158.44710\n",
              "12 ENSMUSG00000000001 Gnai3       GSM1480302 133.59160\n",
              "13 ENSMUSG00000000003 Pbsn        GSM1480291   0.00000\n",
              "14 ENSMUSG00000000003 Pbsn        GSM1480292   0.00000\n",
              "15 ENSMUSG00000000003 Pbsn        GSM1480293   0.00000"
            ]
          },
          "metadata": {}
        }
      ]
    },
    {
      "cell_type": "code",
      "source": [
        "str(seqdata)"
      ],
      "metadata": {
        "id": "br5WrrgZ2_oG",
        "colab": {
          "base_uri": "https://localhost:8080/"
        },
        "outputId": "ac12663a-91e2-4a33-85a1-a72efd9fa725"
      },
      "execution_count": null,
      "outputs": [
        {
          "output_type": "stream",
          "name": "stdout",
          "text": [
            "tibble [284,820 × 4] (S3: tbl_df/tbl/data.frame)\n",
            " $ gene_id    : chr [1:284820] \"ENSMUSG00000000001\" \"ENSMUSG00000000001\" \"ENSMUSG00000000001\" \"ENSMUSG00000000001\" ...\n",
            " $ gene_symbol: chr [1:284820] \"Gnai3\" \"Gnai3\" \"Gnai3\" \"Gnai3\" ...\n",
            " $ Sample     : chr [1:284820] \"GSM1480291\" \"GSM1480292\" \"GSM1480293\" \"GSM1480294\" ...\n",
            " $ Count      : num [1:284820] 243.3 255.7 239.7 217.1 84.7 ...\n"
          ]
        }
      ]
    },
    {
      "cell_type": "markdown",
      "source": [
        "---"
      ],
      "metadata": {
        "id": "fkQWvMXSmZ6k"
      }
    },
    {
      "cell_type": "markdown",
      "source": [
        "**Joining two tables**\n",
        "\n",
        "The `dplyr` package in `R` contains several `join` function, e.g. `left_join()`, `right_join()`, `inner_join()`, and `full_join()`. The use of these functions is as follows:\n",
        "```\n",
        "join_type(firstTable, secondTable, by=columnTojoinOn)\n",
        "```\n",
        "The other merging functions in `R`: `merge()`, `mutate()`, `rbind()` and `cbind()`.\n",
        "\n",
        "\n"
      ],
      "metadata": {
        "id": "zJPYt3qN0hsn"
      }
    },
    {
      "cell_type": "code",
      "source": [
        "library(dplyr)"
      ],
      "metadata": {
        "id": "UKIfTUIWmmUk"
      },
      "execution_count": null,
      "outputs": []
    },
    {
      "cell_type": "code",
      "source": [
        "allinfo <- full_join(seqdata, sampleinfo, by = c(\"Sample\"= \"sample_id\" ))\n",
        "head(allinfo)"
      ],
      "metadata": {
        "id": "bo0QR6J4HCW0",
        "colab": {
          "base_uri": "https://localhost:8080/",
          "height": 286
        },
        "outputId": "16f39927-5fa7-4a34-aa22-31b8b7105dbb"
      },
      "execution_count": null,
      "outputs": [
        {
          "output_type": "display_data",
          "data": {
            "text/html": [
              "<table class=\"dataframe\">\n",
              "<caption>A tibble: 6 × 7</caption>\n",
              "<thead>\n",
              "\t<tr><th scope=col>gene_id</th><th scope=col>gene_symbol</th><th scope=col>Sample</th><th scope=col>Count</th><th scope=col>characteristics</th><th scope=col>immunophenotype</th><th scope=col>developmental.stage</th></tr>\n",
              "\t<tr><th scope=col>&lt;chr&gt;</th><th scope=col>&lt;chr&gt;</th><th scope=col>&lt;chr&gt;</th><th scope=col>&lt;dbl&gt;</th><th scope=col>&lt;chr&gt;</th><th scope=col>&lt;chr&gt;</th><th scope=col>&lt;chr&gt;</th></tr>\n",
              "</thead>\n",
              "<tbody>\n",
              "\t<tr><td>ENSMUSG00000000001</td><td>Gnai3</td><td>GSM1480291</td><td>243.28596</td><td>mammary gland, luminal cells, virgin            </td><td>luminal cell population</td><td>virgin            </td></tr>\n",
              "\t<tr><td>ENSMUSG00000000001</td><td>Gnai3</td><td>GSM1480292</td><td>255.66037</td><td>mammary gland, luminal cells, virgin            </td><td>luminal cell population</td><td>virgin            </td></tr>\n",
              "\t<tr><td>ENSMUSG00000000001</td><td>Gnai3</td><td>GSM1480293</td><td>239.73819</td><td>mammary gland, luminal cells, 18.5 day pregnancy</td><td>luminal cell population</td><td>18.5 day pregnancy</td></tr>\n",
              "\t<tr><td>ENSMUSG00000000001</td><td>Gnai3</td><td>GSM1480294</td><td>217.10047</td><td>mammary gland, luminal cells, 18.5 day pregnancy</td><td>luminal cell population</td><td>18.5 day pregnancy</td></tr>\n",
              "\t<tr><td>ENSMUSG00000000001</td><td>Gnai3</td><td>GSM1480295</td><td> 84.74389</td><td>mammary gland, luminal cells, 2 day lactation   </td><td>luminal cell population</td><td>2 day lactation   </td></tr>\n",
              "\t<tr><td>ENSMUSG00000000001</td><td>Gnai3</td><td>GSM1480296</td><td> 84.59855</td><td>mammary gland, luminal cells, 2 day lactation   </td><td>luminal cell population</td><td>2 day lactation   </td></tr>\n",
              "</tbody>\n",
              "</table>\n"
            ],
            "text/markdown": "\nA tibble: 6 × 7\n\n| gene_id &lt;chr&gt; | gene_symbol &lt;chr&gt; | Sample &lt;chr&gt; | Count &lt;dbl&gt; | characteristics &lt;chr&gt; | immunophenotype &lt;chr&gt; | developmental.stage &lt;chr&gt; |\n|---|---|---|---|---|---|---|\n| ENSMUSG00000000001 | Gnai3 | GSM1480291 | 243.28596 | mammary gland, luminal cells, virgin             | luminal cell population | virgin             |\n| ENSMUSG00000000001 | Gnai3 | GSM1480292 | 255.66037 | mammary gland, luminal cells, virgin             | luminal cell population | virgin             |\n| ENSMUSG00000000001 | Gnai3 | GSM1480293 | 239.73819 | mammary gland, luminal cells, 18.5 day pregnancy | luminal cell population | 18.5 day pregnancy |\n| ENSMUSG00000000001 | Gnai3 | GSM1480294 | 217.10047 | mammary gland, luminal cells, 18.5 day pregnancy | luminal cell population | 18.5 day pregnancy |\n| ENSMUSG00000000001 | Gnai3 | GSM1480295 |  84.74389 | mammary gland, luminal cells, 2 day lactation    | luminal cell population | 2 day lactation    |\n| ENSMUSG00000000001 | Gnai3 | GSM1480296 |  84.59855 | mammary gland, luminal cells, 2 day lactation    | luminal cell population | 2 day lactation    |\n\n",
            "text/latex": "A tibble: 6 × 7\n\\begin{tabular}{lllllll}\n gene\\_id & gene\\_symbol & Sample & Count & characteristics & immunophenotype & developmental.stage\\\\\n <chr> & <chr> & <chr> & <dbl> & <chr> & <chr> & <chr>\\\\\n\\hline\n\t ENSMUSG00000000001 & Gnai3 & GSM1480291 & 243.28596 & mammary gland, luminal cells, virgin             & luminal cell population & virgin            \\\\\n\t ENSMUSG00000000001 & Gnai3 & GSM1480292 & 255.66037 & mammary gland, luminal cells, virgin             & luminal cell population & virgin            \\\\\n\t ENSMUSG00000000001 & Gnai3 & GSM1480293 & 239.73819 & mammary gland, luminal cells, 18.5 day pregnancy & luminal cell population & 18.5 day pregnancy\\\\\n\t ENSMUSG00000000001 & Gnai3 & GSM1480294 & 217.10047 & mammary gland, luminal cells, 18.5 day pregnancy & luminal cell population & 18.5 day pregnancy\\\\\n\t ENSMUSG00000000001 & Gnai3 & GSM1480295 &  84.74389 & mammary gland, luminal cells, 2 day lactation    & luminal cell population & 2 day lactation   \\\\\n\t ENSMUSG00000000001 & Gnai3 & GSM1480296 &  84.59855 & mammary gland, luminal cells, 2 day lactation    & luminal cell population & 2 day lactation   \\\\\n\\end{tabular}\n",
            "text/plain": [
              "  gene_id            gene_symbol Sample     Count    \n",
              "1 ENSMUSG00000000001 Gnai3       GSM1480291 243.28596\n",
              "2 ENSMUSG00000000001 Gnai3       GSM1480292 255.66037\n",
              "3 ENSMUSG00000000001 Gnai3       GSM1480293 239.73819\n",
              "4 ENSMUSG00000000001 Gnai3       GSM1480294 217.10047\n",
              "5 ENSMUSG00000000001 Gnai3       GSM1480295  84.74389\n",
              "6 ENSMUSG00000000001 Gnai3       GSM1480296  84.59855\n",
              "  characteristics                                  immunophenotype        \n",
              "1 mammary gland, luminal cells, virgin             luminal cell population\n",
              "2 mammary gland, luminal cells, virgin             luminal cell population\n",
              "3 mammary gland, luminal cells, 18.5 day pregnancy luminal cell population\n",
              "4 mammary gland, luminal cells, 18.5 day pregnancy luminal cell population\n",
              "5 mammary gland, luminal cells, 2 day lactation    luminal cell population\n",
              "6 mammary gland, luminal cells, 2 day lactation    luminal cell population\n",
              "  developmental.stage\n",
              "1 virgin             \n",
              "2 virgin             \n",
              "3 18.5 day pregnancy \n",
              "4 18.5 day pregnancy \n",
              "5 2 day lactation    \n",
              "6 2 day lactation    "
            ]
          },
          "metadata": {}
        }
      ]
    },
    {
      "cell_type": "markdown",
      "source": [
        "# **Plotting with ggplot2**\n",
        "\n",
        "* `ggplot2` is an open-source data visualization package for the statistical programming language `R`.\n",
        "* It requires minimal changes if the underlying data change or if we decide to change our plot type.\n",
        "* It likes data in the `long format`, i.e., a column for every variable, and a row for every observation.\n",
        "* The basic template to build a ggplot requires three inputs:\n",
        "```\n",
        "# ggplot (data= §, mapping=aes(§§)) + geom_§§§()\n",
        "```\n",
        "1.   §: the data frame\n",
        "2.   §§: the columns we want to visualize\n",
        "3.   §§§: the type of the plot, e.g. `geom_line()`, `geom_point()`,\n",
        "`geom_boxplot() `"
      ],
      "metadata": {
        "id": "E5XG2T9_LAz7"
      }
    },
    {
      "cell_type": "code",
      "source": [
        "ggplot(data = allinfo, mapping = aes(x = Sample, y = Count)) +\n",
        "  geom_boxplot()"
      ],
      "metadata": {
        "id": "eFARAFDD4rug",
        "colab": {
          "base_uri": "https://localhost:8080/",
          "height": 437
        },
        "outputId": "c10b313c-d838-49f4-8f65-c93172eeddd6"
      },
      "execution_count": null,
      "outputs": [
        {
          "output_type": "display_data",
          "data": {
            "text/plain": [
              "plot without title"
            ],
            "image/png": "[encoded data removed]"
          },
          "metadata": {
            "image/png": {
              "width": 420,
              "height": 420
            }
          }
        }
      ]
    },
    {
      "cell_type": "code",
      "source": [
        "summary(counts$GSM1480291)"
      ],
      "metadata": {
        "id": "MSWJPJKq1zhF",
        "colab": {
          "base_uri": "https://localhost:8080/",
          "height": 52
        },
        "outputId": "cb063e1e-7f9d-457e-b88d-d5d0dd81a415"
      },
      "execution_count": null,
      "outputs": [
        {
          "output_type": "display_data",
          "data": {
            "text/plain": [
              "     Min.   1st Qu.    Median      Mean   3rd Qu.      Max. \n",
              "    0.000     0.000     1.745    42.132    29.840 12525.066 "
            ]
          },
          "metadata": {}
        }
      ]
    },
    {
      "cell_type": "code",
      "source": [
        "ggplot(data = allinfo, mapping = aes(x = Sample, y = log2(Count))) +\n",
        "  geom_boxplot()"
      ],
      "metadata": {
        "id": "ZmjrUN_k0hL2",
        "colab": {
          "base_uri": "https://localhost:8080/",
          "height": 489
        },
        "outputId": "008a0fb0-7a16-4ff3-b3bb-b3dbe59ca699"
      },
      "execution_count": null,
      "outputs": [
        {
          "output_type": "stream",
          "name": "stderr",
          "text": [
            "Warning message:\n",
            "“\u001b[1m\u001b[22mRemoved 84054 rows containing non-finite outside the scale range\n",
            "(`stat_boxplot()`).”\n"
          ]
        },
        {
          "output_type": "display_data",
          "data": {
            "text/plain": [
              "plot without title"
            ],
            "image/png": "[encoded data removed]"
          },
          "metadata": {
            "image/png": {
              "width": 420,
              "height": 420
            }
          }
        }
      ]
    },
    {
      "cell_type": "code",
      "source": [
        "summary(log2(counts$GSM1480291))\n",
        "summary(log2((counts$GSM1480291)+1))"
      ],
      "metadata": {
        "id": "POU_oTiA2Eqg",
        "colab": {
          "base_uri": "https://localhost:8080/",
          "height": 86
        },
        "outputId": "f23d44c2-ffb3-4d27-a181-3f3398c823a1"
      },
      "execution_count": null,
      "outputs": [
        {
          "output_type": "display_data",
          "data": {
            "text/plain": [
              "   Min. 1st Qu.  Median    Mean 3rd Qu.    Max. \n",
              "   -Inf    -Inf  0.8031    -Inf  4.8992 13.6125 "
            ]
          },
          "metadata": {}
        },
        {
          "output_type": "display_data",
          "data": {
            "text/plain": [
              "   Min. 1st Qu.  Median    Mean 3rd Qu.    Max. \n",
              "  0.000   0.000   1.457   2.572   4.947  13.613 "
            ]
          },
          "metadata": {}
        }
      ]
    },
    {
      "cell_type": "code",
      "source": [
        "ggplot(data = allinfo, mapping = aes(x = Sample, y = log2(Count+1))) +\n",
        "  geom_boxplot()"
      ],
      "metadata": {
        "id": "k7oA0dTb6tfK",
        "colab": {
          "base_uri": "https://localhost:8080/",
          "height": 437
        },
        "outputId": "c9867cb6-96ac-4df3-e137-a87a9060e65e"
      },
      "execution_count": null,
      "outputs": [
        {
          "output_type": "display_data",
          "data": {
            "text/plain": [
              "plot without title"
            ],
            "image/png": "[encoded data removed]"
          },
          "metadata": {
            "image/png": {
              "width": 420,
              "height": 420
            }
          }
        }
      ]
    },
    {
      "cell_type": "markdown",
      "source": [
        "**Colouring by categories**:\n",
        "\n",
        "To add a different colour for each sample, we can map the Sample column to `colour` option inside the `aes()`.\n"
      ],
      "metadata": {
        "id": "Rt99o_4c7xwX"
      }
    },
    {
      "cell_type": "code",
      "source": [
        "ggplot(data = allinfo, mapping = aes(x = Sample, y = log2(Count + 1), colour = Sample)) +\n",
        "  geom_boxplot()"
      ],
      "metadata": {
        "id": "fzZPgjZmIRbv",
        "colab": {
          "base_uri": "https://localhost:8080/",
          "height": 437
        },
        "outputId": "81356af9-6c9e-47b8-e6c6-c1753698f114"
      },
      "execution_count": null,
      "outputs": [
        {
          "output_type": "display_data",
          "data": {
            "text/plain": [
              "plot without title"
            ],
            "image/png": "[encoded data removed]"
          },
          "metadata": {
            "image/png": {
              "width": 420,
              "height": 420
            }
          }
        }
      ]
    },
    {
      "cell_type": "code",
      "source": [
        "ggplot(data = allinfo, mapping = aes(x = Sample, y = log2(Count + 1), fill = Sample)) +\n",
        "  geom_boxplot()"
      ],
      "metadata": {
        "id": "cFFrE7RzIe1W",
        "colab": {
          "base_uri": "https://localhost:8080/",
          "height": 437
        },
        "outputId": "2ae9fed9-1807-4095-ee05-a8cc7722206b"
      },
      "execution_count": null,
      "outputs": [
        {
          "output_type": "display_data",
          "data": {
            "text/plain": [
              "plot without title"
            ],
            "image/png": "[encoded data removed]"
          },
          "metadata": {
            "image/png": {
              "width": 420,
              "height": 420
            }
          }
        }
      ]
    },
    {
      "cell_type": "markdown",
      "source": [
        "**Exercises:**\n",
        "\n",
        "\n",
        "\n",
        "1.   Repeat the above plot for other variables in the Metadata file (characteristics, immunophenotype, ‘developmental stage‘).\n",
        "2.   Show the outliers using the colour option in `geom_boxplot()` or hide them.\n",
        "*   Hint: Use  ````outlier.shape = NA````."
      ],
      "metadata": {
        "id": "VLYlGsF1IxQx"
      }
    },
    {
      "cell_type": "code",
      "source": [
        "ggplot(data = allinfo, mapping = aes(x = Sample, y = log2(Count + 1), fill = Sample)) +\n",
        "  geom_boxplot(outlier.shape = NA)"
      ],
      "metadata": {
        "colab": {
          "base_uri": "https://localhost:8080/",
          "height": 437
        },
        "id": "Spp6LdL5iOIW",
        "outputId": "ae61cd6d-c283-4ac4-eb00-09f12468c46a"
      },
      "execution_count": null,
      "outputs": [
        {
          "output_type": "display_data",
          "data": {
            "text/plain": [
              "plot without title"
            ],
            "image/png": "[encoded data removed]"
          },
          "metadata": {
            "image/png": {
              "width": 420,
              "height": 420
            }
          }
        }
      ]
    },
    {
      "cell_type": "code",
      "source": [
        "ggplot(data = allinfo, mapping = aes(x = Sample, y = log2(Count + 1), fill = Sample)) +\n",
        "  geom_boxplot(coef = 5)"
      ],
      "metadata": {
        "colab": {
          "base_uri": "https://localhost:8080/",
          "height": 437
        },
        "id": "AaRgCRH7kGDK",
        "outputId": "854acfc5-c111-4178-abed-7166b21634c6"
      },
      "execution_count": null,
      "outputs": [
        {
          "output_type": "display_data",
          "data": {
            "text/plain": [
              "plot without title"
            ],
            "image/png": "[encoded data removed]"
          },
          "metadata": {
            "image/png": {
              "width": 420,
              "height": 420
            }
          }
        }
      ]
    },
    {
      "cell_type": "markdown",
      "source": [
        "# **Subplots for Genes**\n",
        "\n",
        "Sometime we need to plot the results for some specific genes. It can be done using the `facet()` function in `ggplot`. Besides, we can use `mutate()` function in R to define shorter names for our groups in characteristics column:"
      ],
      "metadata": {
        "id": "t9RvclhkAGFh"
      }
    },
    {
      "cell_type": "code",
      "source": [
        "n_distinct(allinfo$characteristics) #number of the unique values in the characteristics column\n",
        "unique(allinfo$characteristics)"
      ],
      "metadata": {
        "id": "TpXsJfb1BR65",
        "colab": {
          "base_uri": "https://localhost:8080/",
          "height": 69
        },
        "outputId": "c62544cd-3688-4a05-e13a-6b5b5799d2f1"
      },
      "execution_count": null,
      "outputs": [
        {
          "output_type": "display_data",
          "data": {
            "text/html": [
              "6"
            ],
            "text/markdown": "6",
            "text/latex": "6",
            "text/plain": [
              "[1] 6"
            ]
          },
          "metadata": {}
        },
        {
          "output_type": "display_data",
          "data": {
            "text/html": [
              "<style>\n",
              ".list-inline {list-style: none; margin:0; padding: 0}\n",
              ".list-inline>li {display: inline-block}\n",
              ".list-inline>li:not(:last-child)::after {content: \"\\00b7\"; padding: 0 .5ex}\n",
              "</style>\n",
              "<ol class=list-inline><li>'mammary gland, luminal cells, virgin'</li><li>'mammary gland, luminal cells, 18.5 day pregnancy'</li><li>'mammary gland, luminal cells, 2 day lactation'</li><li>'mammary gland, basal cells, virgin'</li><li>'mammary gland, basal cells, 18.5 day pregnancy'</li><li>'mammary gland, basal cells, 2 day lactation'</li></ol>\n"
            ],
            "text/markdown": "1. 'mammary gland, luminal cells, virgin'\n2. 'mammary gland, luminal cells, 18.5 day pregnancy'\n3. 'mammary gland, luminal cells, 2 day lactation'\n4. 'mammary gland, basal cells, virgin'\n5. 'mammary gland, basal cells, 18.5 day pregnancy'\n6. 'mammary gland, basal cells, 2 day lactation'\n\n\n",
            "text/latex": "\\begin{enumerate*}\n\\item 'mammary gland, luminal cells, virgin'\n\\item 'mammary gland, luminal cells, 18.5 day pregnancy'\n\\item 'mammary gland, luminal cells, 2 day lactation'\n\\item 'mammary gland, basal cells, virgin'\n\\item 'mammary gland, basal cells, 18.5 day pregnancy'\n\\item 'mammary gland, basal cells, 2 day lactation'\n\\end{enumerate*}\n",
            "text/plain": [
              "[1] \"mammary gland, luminal cells, virgin\"            \n",
              "[2] \"mammary gland, luminal cells, 18.5 day pregnancy\"\n",
              "[3] \"mammary gland, luminal cells, 2 day lactation\"   \n",
              "[4] \"mammary gland, basal cells, virgin\"              \n",
              "[5] \"mammary gland, basal cells, 18.5 day pregnancy\"  \n",
              "[6] \"mammary gland, basal cells, 2 day lactation\"     "
            ]
          },
          "metadata": {}
        }
      ]
    },
    {
      "cell_type": "code",
      "source": [
        "allinfo <- mutate(allinfo, Group = case_when(\n",
        "  str_detect(characteristics, \"basal.*virgin\") ~ \"bvirg\",\n",
        "  str_detect(characteristics, \"basal.*preg\") ~ \"bpreg\",\n",
        "  str_detect(characteristics, \"basal.*lact\") ~ \"blact\",\n",
        "  str_detect(characteristics, \"luminal.*virgin\") ~ \"lvirg\",\n",
        "  str_detect(characteristics, \"luminal.*preg\") ~ \"lpreg\",\n",
        "  str_detect(characteristics, \"luminal.*lact\") ~ \"llact\"\n",
        "))\n",
        "\n",
        "head(allinfo)"
      ],
      "metadata": {
        "id": "N1AWZu_4FfV1",
        "colab": {
          "base_uri": "https://localhost:8080/",
          "height": 286
        },
        "outputId": "86806d52-2cac-4a90-e2f2-5eb2496adf54"
      },
      "execution_count": null,
      "outputs": [
        {
          "output_type": "display_data",
          "data": {
            "text/html": [
              "<table class=\"dataframe\">\n",
              "<caption>A tibble: 6 × 8</caption>\n",
              "<thead>\n",
              "\t<tr><th scope=col>gene_id</th><th scope=col>gene_symbol</th><th scope=col>Sample</th><th scope=col>Count</th><th scope=col>characteristics</th><th scope=col>immunophenotype</th><th scope=col>developmental.stage</th><th scope=col>Group</th></tr>\n",
              "\t<tr><th scope=col>&lt;chr&gt;</th><th scope=col>&lt;chr&gt;</th><th scope=col>&lt;chr&gt;</th><th scope=col>&lt;dbl&gt;</th><th scope=col>&lt;chr&gt;</th><th scope=col>&lt;chr&gt;</th><th scope=col>&lt;chr&gt;</th><th scope=col>&lt;chr&gt;</th></tr>\n",
              "</thead>\n",
              "<tbody>\n",
              "\t<tr><td>ENSMUSG00000000001</td><td>Gnai3</td><td>GSM1480291</td><td>243.28596</td><td>mammary gland, luminal cells, virgin            </td><td>luminal cell population</td><td>virgin            </td><td>lvirg</td></tr>\n",
              "\t<tr><td>ENSMUSG00000000001</td><td>Gnai3</td><td>GSM1480292</td><td>255.66037</td><td>mammary gland, luminal cells, virgin            </td><td>luminal cell population</td><td>virgin            </td><td>lvirg</td></tr>\n",
              "\t<tr><td>ENSMUSG00000000001</td><td>Gnai3</td><td>GSM1480293</td><td>239.73819</td><td>mammary gland, luminal cells, 18.5 day pregnancy</td><td>luminal cell population</td><td>18.5 day pregnancy</td><td>lpreg</td></tr>\n",
              "\t<tr><td>ENSMUSG00000000001</td><td>Gnai3</td><td>GSM1480294</td><td>217.10047</td><td>mammary gland, luminal cells, 18.5 day pregnancy</td><td>luminal cell population</td><td>18.5 day pregnancy</td><td>lpreg</td></tr>\n",
              "\t<tr><td>ENSMUSG00000000001</td><td>Gnai3</td><td>GSM1480295</td><td> 84.74389</td><td>mammary gland, luminal cells, 2 day lactation   </td><td>luminal cell population</td><td>2 day lactation   </td><td>llact</td></tr>\n",
              "\t<tr><td>ENSMUSG00000000001</td><td>Gnai3</td><td>GSM1480296</td><td> 84.59855</td><td>mammary gland, luminal cells, 2 day lactation   </td><td>luminal cell population</td><td>2 day lactation   </td><td>llact</td></tr>\n",
              "</tbody>\n",
              "</table>\n"
            ],
            "text/markdown": "\nA tibble: 6 × 8\n\n| gene_id &lt;chr&gt; | gene_symbol &lt;chr&gt; | Sample &lt;chr&gt; | Count &lt;dbl&gt; | characteristics &lt;chr&gt; | immunophenotype &lt;chr&gt; | developmental.stage &lt;chr&gt; | Group &lt;chr&gt; |\n|---|---|---|---|---|---|---|---|\n| ENSMUSG00000000001 | Gnai3 | GSM1480291 | 243.28596 | mammary gland, luminal cells, virgin             | luminal cell population | virgin             | lvirg |\n| ENSMUSG00000000001 | Gnai3 | GSM1480292 | 255.66037 | mammary gland, luminal cells, virgin             | luminal cell population | virgin             | lvirg |\n| ENSMUSG00000000001 | Gnai3 | GSM1480293 | 239.73819 | mammary gland, luminal cells, 18.5 day pregnancy | luminal cell population | 18.5 day pregnancy | lpreg |\n| ENSMUSG00000000001 | Gnai3 | GSM1480294 | 217.10047 | mammary gland, luminal cells, 18.5 day pregnancy | luminal cell population | 18.5 day pregnancy | lpreg |\n| ENSMUSG00000000001 | Gnai3 | GSM1480295 |  84.74389 | mammary gland, luminal cells, 2 day lactation    | luminal cell population | 2 day lactation    | llact |\n| ENSMUSG00000000001 | Gnai3 | GSM1480296 |  84.59855 | mammary gland, luminal cells, 2 day lactation    | luminal cell population | 2 day lactation    | llact |\n\n",
            "text/latex": "A tibble: 6 × 8\n\\begin{tabular}{llllllll}\n gene\\_id & gene\\_symbol & Sample & Count & characteristics & immunophenotype & developmental.stage & Group\\\\\n <chr> & <chr> & <chr> & <dbl> & <chr> & <chr> & <chr> & <chr>\\\\\n\\hline\n\t ENSMUSG00000000001 & Gnai3 & GSM1480291 & 243.28596 & mammary gland, luminal cells, virgin             & luminal cell population & virgin             & lvirg\\\\\n\t ENSMUSG00000000001 & Gnai3 & GSM1480292 & 255.66037 & mammary gland, luminal cells, virgin             & luminal cell population & virgin             & lvirg\\\\\n\t ENSMUSG00000000001 & Gnai3 & GSM1480293 & 239.73819 & mammary gland, luminal cells, 18.5 day pregnancy & luminal cell population & 18.5 day pregnancy & lpreg\\\\\n\t ENSMUSG00000000001 & Gnai3 & GSM1480294 & 217.10047 & mammary gland, luminal cells, 18.5 day pregnancy & luminal cell population & 18.5 day pregnancy & lpreg\\\\\n\t ENSMUSG00000000001 & Gnai3 & GSM1480295 &  84.74389 & mammary gland, luminal cells, 2 day lactation    & luminal cell population & 2 day lactation    & llact\\\\\n\t ENSMUSG00000000001 & Gnai3 & GSM1480296 &  84.59855 & mammary gland, luminal cells, 2 day lactation    & luminal cell population & 2 day lactation    & llact\\\\\n\\end{tabular}\n",
            "text/plain": [
              "  gene_id            gene_symbol Sample     Count    \n",
              "1 ENSMUSG00000000001 Gnai3       GSM1480291 243.28596\n",
              "2 ENSMUSG00000000001 Gnai3       GSM1480292 255.66037\n",
              "3 ENSMUSG00000000001 Gnai3       GSM1480293 239.73819\n",
              "4 ENSMUSG00000000001 Gnai3       GSM1480294 217.10047\n",
              "5 ENSMUSG00000000001 Gnai3       GSM1480295  84.74389\n",
              "6 ENSMUSG00000000001 Gnai3       GSM1480296  84.59855\n",
              "  characteristics                                  immunophenotype        \n",
              "1 mammary gland, luminal cells, virgin             luminal cell population\n",
              "2 mammary gland, luminal cells, virgin             luminal cell population\n",
              "3 mammary gland, luminal cells, 18.5 day pregnancy luminal cell population\n",
              "4 mammary gland, luminal cells, 18.5 day pregnancy luminal cell population\n",
              "5 mammary gland, luminal cells, 2 day lactation    luminal cell population\n",
              "6 mammary gland, luminal cells, 2 day lactation    luminal cell population\n",
              "  developmental.stage Group\n",
              "1 virgin              lvirg\n",
              "2 virgin              lvirg\n",
              "3 18.5 day pregnancy  lpreg\n",
              "4 18.5 day pregnancy  lpreg\n",
              "5 2 day lactation     llact\n",
              "6 2 day lactation     llact"
            ]
          },
          "metadata": {}
        }
      ]
    },
    {
      "cell_type": "code",
      "source": [
        "n_distinct(allinfo$gene_symbol)"
      ],
      "metadata": {
        "id": "CfdgJG4tGc95",
        "colab": {
          "base_uri": "https://localhost:8080/",
          "height": 34
        },
        "outputId": "3dd604bc-ad9a-4849-97bd-9365149f513b"
      },
      "execution_count": null,
      "outputs": [
        {
          "output_type": "display_data",
          "data": {
            "text/html": [
              "23572"
            ],
            "text/markdown": "23572",
            "text/latex": "23572",
            "text/plain": [
              "[1] 23572"
            ]
          },
          "metadata": {}
        }
      ]
    },
    {
      "cell_type": "code",
      "source": [
        "# genes with the highest counts summed across all samples\n",
        "mygenes <- allinfo %>%\n",
        "  group_by(gene_symbol) %>%\n",
        "  summarise(Total_count = sum(Count)) %>%\n",
        "  arrange(desc(Total_count)) %>%\n",
        "  head(n = 9) %>%\n",
        "  pull(gene_symbol)\n",
        "\n",
        "mygenes"
      ],
      "metadata": {
        "id": "3QmuMfzZ1ONQ",
        "colab": {
          "base_uri": "https://localhost:8080/",
          "height": 34
        },
        "outputId": "b173d04f-2d88-452a-d33c-a73485517bcd"
      },
      "execution_count": null,
      "outputs": [
        {
          "output_type": "display_data",
          "data": {
            "text/html": [
              "<style>\n",
              ".list-inline {list-style: none; margin:0; padding: 0}\n",
              ".list-inline>li {display: inline-block}\n",
              ".list-inline>li:not(:last-child)::after {content: \"\\00b7\"; padding: 0 .5ex}\n",
              "</style>\n",
              "<ol class=list-inline><li>'Csn1s2a'</li><li>'Csn1s1'</li><li>'Csn2'</li><li>'Glycam1'</li><li>'COX1'</li><li>'Trf'</li><li>'Wap'</li><li>'Eef1a1'</li><li>'Csn3'</li></ol>\n"
            ],
            "text/markdown": "1. 'Csn1s2a'\n2. 'Csn1s1'\n3. 'Csn2'\n4. 'Glycam1'\n5. 'COX1'\n6. 'Trf'\n7. 'Wap'\n8. 'Eef1a1'\n9. 'Csn3'\n\n\n",
            "text/latex": "\\begin{enumerate*}\n\\item 'Csn1s2a'\n\\item 'Csn1s1'\n\\item 'Csn2'\n\\item 'Glycam1'\n\\item 'COX1'\n\\item 'Trf'\n\\item 'Wap'\n\\item 'Eef1a1'\n\\item 'Csn3'\n\\end{enumerate*}\n",
            "text/plain": [
              "[1] \"Csn1s2a\" \"Csn1s1\"  \"Csn2\"    \"Glycam1\" \"COX1\"    \"Trf\"     \"Wap\"    \n",
              "[8] \"Eef1a1\"  \"Csn3\"   "
            ]
          },
          "metadata": {}
        }
      ]
    },
    {
      "cell_type": "code",
      "source": [
        "mygenes <- c(\"Csn1s2a\", \"Csn1s1\", \"Csn2\", \"Glycam1\", \"COX1\", \"Trf\", \"Wap\", \"Eef1a1\", \"Csn3\") # 9 genes with the highest counts summed across all samples are picked\n",
        "mygenes_counts <- filter(allinfo, gene_symbol %in% mygenes) # creating a new dataframe contains only the selected genes\n",
        "dim(mygenes_counts)\n",
        "head(mygenes_counts)"
      ],
      "metadata": {
        "id": "82Y8oBWqKl90",
        "colab": {
          "base_uri": "https://localhost:8080/",
          "height": 303
        },
        "collapsed": true,
        "outputId": "0a62698f-9f9e-4906-bb44-2fe37843b6e8"
      },
      "execution_count": null,
      "outputs": [
        {
          "output_type": "display_data",
          "data": {
            "text/html": [
              "<style>\n",
              ".list-inline {list-style: none; margin:0; padding: 0}\n",
              ".list-inline>li {display: inline-block}\n",
              ".list-inline>li:not(:last-child)::after {content: \"\\00b7\"; padding: 0 .5ex}\n",
              "</style>\n",
              "<ol class=list-inline><li>108</li><li>8</li></ol>\n"
            ],
            "text/markdown": "1. 108\n2. 8\n\n\n",
            "text/latex": "\\begin{enumerate*}\n\\item 108\n\\item 8\n\\end{enumerate*}\n",
            "text/plain": [
              "[1] 108   8"
            ]
          },
          "metadata": {}
        },
        {
          "output_type": "display_data",
          "data": {
            "text/html": [
              "<table class=\"dataframe\">\n",
              "<caption>A tibble: 6 × 8</caption>\n",
              "<thead>\n",
              "\t<tr><th scope=col>gene_id</th><th scope=col>gene_symbol</th><th scope=col>Sample</th><th scope=col>Count</th><th scope=col>characteristics</th><th scope=col>immunophenotype</th><th scope=col>developmental.stage</th><th scope=col>Group</th></tr>\n",
              "\t<tr><th scope=col>&lt;chr&gt;</th><th scope=col>&lt;chr&gt;</th><th scope=col>&lt;chr&gt;</th><th scope=col>&lt;dbl&gt;</th><th scope=col>&lt;chr&gt;</th><th scope=col>&lt;chr&gt;</th><th scope=col>&lt;chr&gt;</th><th scope=col>&lt;chr&gt;</th></tr>\n",
              "</thead>\n",
              "<tbody>\n",
              "\t<tr><td>ENSMUSG00000000381</td><td>Wap</td><td>GSM1480291</td><td>   90.19207</td><td>mammary gland, luminal cells, virgin            </td><td>luminal cell population</td><td>virgin            </td><td>lvirg</td></tr>\n",
              "\t<tr><td>ENSMUSG00000000381</td><td>Wap</td><td>GSM1480292</td><td>   95.55748</td><td>mammary gland, luminal cells, virgin            </td><td>luminal cell population</td><td>virgin            </td><td>lvirg</td></tr>\n",
              "\t<tr><td>ENSMUSG00000000381</td><td>Wap</td><td>GSM1480293</td><td> 4140.27234</td><td>mammary gland, luminal cells, 18.5 day pregnancy</td><td>luminal cell population</td><td>18.5 day pregnancy</td><td>lpreg</td></tr>\n",
              "\t<tr><td>ENSMUSG00000000381</td><td>Wap</td><td>GSM1480294</td><td> 8414.43021</td><td>mammary gland, luminal cells, 18.5 day pregnancy</td><td>luminal cell population</td><td>18.5 day pregnancy</td><td>lpreg</td></tr>\n",
              "\t<tr><td>ENSMUSG00000000381</td><td>Wap</td><td>GSM1480295</td><td>49204.85802</td><td>mammary gland, luminal cells, 2 day lactation   </td><td>luminal cell population</td><td>2 day lactation   </td><td>llact</td></tr>\n",
              "\t<tr><td>ENSMUSG00000000381</td><td>Wap</td><td>GSM1480296</td><td>46410.21375</td><td>mammary gland, luminal cells, 2 day lactation   </td><td>luminal cell population</td><td>2 day lactation   </td><td>llact</td></tr>\n",
              "</tbody>\n",
              "</table>\n"
            ],
            "text/markdown": "\nA tibble: 6 × 8\n\n| gene_id &lt;chr&gt; | gene_symbol &lt;chr&gt; | Sample &lt;chr&gt; | Count &lt;dbl&gt; | characteristics &lt;chr&gt; | immunophenotype &lt;chr&gt; | developmental.stage &lt;chr&gt; | Group &lt;chr&gt; |\n|---|---|---|---|---|---|---|---|\n| ENSMUSG00000000381 | Wap | GSM1480291 |    90.19207 | mammary gland, luminal cells, virgin             | luminal cell population | virgin             | lvirg |\n| ENSMUSG00000000381 | Wap | GSM1480292 |    95.55748 | mammary gland, luminal cells, virgin             | luminal cell population | virgin             | lvirg |\n| ENSMUSG00000000381 | Wap | GSM1480293 |  4140.27234 | mammary gland, luminal cells, 18.5 day pregnancy | luminal cell population | 18.5 day pregnancy | lpreg |\n| ENSMUSG00000000381 | Wap | GSM1480294 |  8414.43021 | mammary gland, luminal cells, 18.5 day pregnancy | luminal cell population | 18.5 day pregnancy | lpreg |\n| ENSMUSG00000000381 | Wap | GSM1480295 | 49204.85802 | mammary gland, luminal cells, 2 day lactation    | luminal cell population | 2 day lactation    | llact |\n| ENSMUSG00000000381 | Wap | GSM1480296 | 46410.21375 | mammary gland, luminal cells, 2 day lactation    | luminal cell population | 2 day lactation    | llact |\n\n",
            "text/latex": "A tibble: 6 × 8\n\\begin{tabular}{llllllll}\n gene\\_id & gene\\_symbol & Sample & Count & characteristics & immunophenotype & developmental.stage & Group\\\\\n <chr> & <chr> & <chr> & <dbl> & <chr> & <chr> & <chr> & <chr>\\\\\n\\hline\n\t ENSMUSG00000000381 & Wap & GSM1480291 &    90.19207 & mammary gland, luminal cells, virgin             & luminal cell population & virgin             & lvirg\\\\\n\t ENSMUSG00000000381 & Wap & GSM1480292 &    95.55748 & mammary gland, luminal cells, virgin             & luminal cell population & virgin             & lvirg\\\\\n\t ENSMUSG00000000381 & Wap & GSM1480293 &  4140.27234 & mammary gland, luminal cells, 18.5 day pregnancy & luminal cell population & 18.5 day pregnancy & lpreg\\\\\n\t ENSMUSG00000000381 & Wap & GSM1480294 &  8414.43021 & mammary gland, luminal cells, 18.5 day pregnancy & luminal cell population & 18.5 day pregnancy & lpreg\\\\\n\t ENSMUSG00000000381 & Wap & GSM1480295 & 49204.85802 & mammary gland, luminal cells, 2 day lactation    & luminal cell population & 2 day lactation    & llact\\\\\n\t ENSMUSG00000000381 & Wap & GSM1480296 & 46410.21375 & mammary gland, luminal cells, 2 day lactation    & luminal cell population & 2 day lactation    & llact\\\\\n\\end{tabular}\n",
            "text/plain": [
              "  gene_id            gene_symbol Sample     Count      \n",
              "1 ENSMUSG00000000381 Wap         GSM1480291    90.19207\n",
              "2 ENSMUSG00000000381 Wap         GSM1480292    95.55748\n",
              "3 ENSMUSG00000000381 Wap         GSM1480293  4140.27234\n",
              "4 ENSMUSG00000000381 Wap         GSM1480294  8414.43021\n",
              "5 ENSMUSG00000000381 Wap         GSM1480295 49204.85802\n",
              "6 ENSMUSG00000000381 Wap         GSM1480296 46410.21375\n",
              "  characteristics                                  immunophenotype        \n",
              "1 mammary gland, luminal cells, virgin             luminal cell population\n",
              "2 mammary gland, luminal cells, virgin             luminal cell population\n",
              "3 mammary gland, luminal cells, 18.5 day pregnancy luminal cell population\n",
              "4 mammary gland, luminal cells, 18.5 day pregnancy luminal cell population\n",
              "5 mammary gland, luminal cells, 2 day lactation    luminal cell population\n",
              "6 mammary gland, luminal cells, 2 day lactation    luminal cell population\n",
              "  developmental.stage Group\n",
              "1 virgin              lvirg\n",
              "2 virgin              lvirg\n",
              "3 18.5 day pregnancy  lpreg\n",
              "4 18.5 day pregnancy  lpreg\n",
              "5 2 day lactation     llact\n",
              "6 2 day lactation     llact"
            ]
          },
          "metadata": {}
        }
      ]
    },
    {
      "cell_type": "code",
      "source": [
        "ggplot(data = mygenes_counts,\n",
        "mapping = aes(x = Group, y = log2(Count + 1), colour = Group)) +\n",
        "geom_jitter() +  # similar to scatter plot in geom_point(), adds random variation to each point and avoids overlaping\n",
        "facet_wrap(~ gene_symbol) +  #makes plot for each gene in gene_symbol column\n",
        "labs(x = \"Cell type and stage\", y = \"Count\", title = \"Mammary gland RNA-seq data\") + #Axis labels and Title\n",
        "theme_bw() + # a theme with white background and black gridlines\n",
        "theme(axis.text.x = element_text(angle = 90))"
      ],
      "metadata": {
        "id": "g0vTTLoWNPyz",
        "colab": {
          "base_uri": "https://localhost:8080/",
          "height": 437
        },
        "outputId": "b21cbc56-303a-499a-dba8-c92cae07d7f7"
      },
      "execution_count": null,
      "outputs": [
        {
          "output_type": "display_data",
          "data": {
            "text/plain": [
              "plot without title"
            ],
            "image/png": "[encoded data removed]"
          },
          "metadata": {
            "image/png": {
              "width": 420,
              "height": 420
            }
          }
        }
      ]
    },
    {
      "cell_type": "markdown",
      "source": [
        "# **References:**\n",
        "\n",
        "*   R for Data Science (2e): [Link](https://r4ds.hadley.nz/)\n",
        "\n",
        "*   An Introduction to R through the tidyverse: [Link](https://pmacdasci.github.io/r-intro-tidyverse/)\n",
        "\n",
        "\n"
      ],
      "metadata": {
        "id": "9K9kouc2hH8o"
      }
    },
    {
      "cell_type": "markdown",
      "source": [
        "---\n",
        "---"
      ],
      "metadata": {
        "id": "GvSEuokqBVGF"
      }
    },
    {
      "cell_type": "markdown",
      "source": [
        "# **Hypothesis testing**\n",
        "\n",
        "**Binomial test**:\n",
        "\n",
        "\n",
        "*   In a test group of persons with a precondition, 9 out of 100 have the disease of interest.\n",
        "*  The known prevalence (disease or no disease) is 4%, that means 4% of the entire population have the disease.\n",
        "* We want to know whether the observed 9 out of 100 are significantly different from 4%.\n",
        "* The *null hypothesis*: the prevalence in the test group is not significantly different from 4%.\n",
        "* The *alternative hypothesis*: the prevalence in the test group differs from 4%.\n",
        "* The null model is a binomial distribution with n=100 and success probability p=0.04.\n",
        "* Binomial test function in R; `binom.test(x, n, p = 0.5, alternative = c(\"two.sided\", \"less\", \"greater\"),   conf.level = 0.95)`"
      ],
      "metadata": {
        "id": "ui-m7X0ZNRvN"
      }
    },
    {
      "cell_type": "code",
      "source": [
        "binom.test(9, 100, p = 0.04) #   The default value for alternative is \"two.sided\"."
      ],
      "metadata": {
        "id": "AEaXFQNcQfKB",
        "colab": {
          "base_uri": "https://localhost:8080/",
          "height": 208
        },
        "outputId": "2d7e43a9-6838-4dbc-9907-fbc219895e9a"
      },
      "execution_count": null,
      "outputs": [
        {
          "output_type": "display_data",
          "data": {
            "text/plain": [
              "\n",
              "\tExact binomial test\n",
              "\n",
              "data:  9 and 100\n",
              "number of successes = 9, number of trials = 100, p-value = 0.01899\n",
              "alternative hypothesis: true probability of success is not equal to 0.04\n",
              "95 percent confidence interval:\n",
              " 0.0419836 0.1639823\n",
              "sample estimates:\n",
              "probability of success \n",
              "                  0.09 \n"
            ]
          },
          "metadata": {}
        }
      ]
    },
    {
      "cell_type": "markdown",
      "source": [
        "---"
      ],
      "metadata": {
        "id": "PzR2V-5ttnLO"
      }
    },
    {
      "cell_type": "markdown",
      "source": [
        "Another method:\n",
        "`pbinom(x,n,p)`: cumulative distribution function (percentage of values smaller than)\n",
        "$$P(X \\ge 9) = 1 - P(X \\le 8)$$\n",
        "\n"
      ],
      "metadata": {
        "id": "Nnji0bISSfVl"
      }
    },
    {
      "cell_type": "code",
      "source": [
        "round(1-pbinom(8,100,0.04),5)"
      ],
      "metadata": {
        "id": "hmYkAGfJSDQD",
        "colab": {
          "base_uri": "https://localhost:8080/",
          "height": 34
        },
        "outputId": "0aaf93d9-6355-40d9-b57f-1f42a2648ef1"
      },
      "execution_count": null,
      "outputs": [
        {
          "output_type": "display_data",
          "data": {
            "text/html": [
              "0.01899"
            ],
            "text/markdown": "0.01899",
            "text/latex": "0.01899",
            "text/plain": [
              "[1] 0.01899"
            ]
          },
          "metadata": {}
        }
      ]
    },
    {
      "cell_type": "code",
      "source": [
        "round(binom.test(9, 100, p=0.04)$p.value,4)\n",
        "round(binom.test(9, 100, p=0.04, alternative=\"greater\")$p.value,4)\n",
        "round(binom.test(9, 100, p=0.04, alternative=\"less\")$p.value,4)\n",
        "\n"
      ],
      "metadata": {
        "id": "Iz_rHrSMANQ2",
        "colab": {
          "base_uri": "https://localhost:8080/",
          "height": 69
        },
        "outputId": "12ecf387-5290-4c8c-dbf5-165b49046ecd"
      },
      "execution_count": null,
      "outputs": [
        {
          "output_type": "display_data",
          "data": {
            "text/html": [
              "0.019"
            ],
            "text/markdown": "0.019",
            "text/latex": "0.019",
            "text/plain": [
              "[1] 0.019"
            ]
          },
          "metadata": {}
        },
        {
          "output_type": "display_data",
          "data": {
            "text/html": [
              "0.019"
            ],
            "text/markdown": "0.019",
            "text/latex": "0.019",
            "text/plain": [
              "[1] 0.019"
            ]
          },
          "metadata": {}
        },
        {
          "output_type": "display_data",
          "data": {
            "text/html": [
              "0.9932"
            ],
            "text/markdown": "0.9932",
            "text/latex": "0.9932",
            "text/plain": [
              "[1] 0.9932"
            ]
          },
          "metadata": {}
        }
      ]
    },
    {
      "cell_type": "markdown",
      "source": [
        "---"
      ],
      "metadata": {
        "id": "XBqmLf2LBgt7"
      }
    },
    {
      "cell_type": "markdown",
      "source": [
        "***One-sample t-test***"
      ],
      "metadata": {
        "id": "SJ80V1bEXfCV"
      }
    },
    {
      "cell_type": "code",
      "source": [
        "weights <- c(31.41, 28.29, 22.82, 26.07, 31.97, 22.60, 31.47, 29.18, 22.98, 23.26, 23.48, 20.88, 28.44, 30.34, 23.14, 22.80, 24.47, 39.73, 25.71, 22.74)\n",
        "mu0 <- 23.89338"
      ],
      "metadata": {
        "id": "pzG7cRtxSOpA"
      },
      "execution_count": null,
      "outputs": []
    },
    {
      "cell_type": "code",
      "source": [
        "t.test(weights, mu = mu0)"
      ],
      "metadata": {
        "id": "jA8h3ipDSJ6_",
        "colab": {
          "base_uri": "https://localhost:8080/",
          "height": 208
        },
        "outputId": "9d61a3aa-08e8-415f-b9ce-b82ac862de86"
      },
      "execution_count": null,
      "outputs": [
        {
          "output_type": "display_data",
          "data": {
            "text/plain": [
              "\n",
              "\tOne Sample t-test\n",
              "\n",
              "data:  weights\n",
              "t = 2.5674, df = 19, p-value = 0.01885\n",
              "alternative hypothesis: true mean is not equal to 23.89338\n",
              "95 percent confidence interval:\n",
              " 24.39148 28.78652\n",
              "sample estimates:\n",
              "mean of x \n",
              "   26.589 \n"
            ]
          },
          "metadata": {}
        }
      ]
    },
    {
      "cell_type": "markdown",
      "source": [
        "---"
      ],
      "metadata": {
        "id": "Z6Vu6BgXxg3A"
      }
    },
    {
      "cell_type": "markdown",
      "source": [
        "Calculating the t-statistic and p-value without using the ```t.test()``` function in R:\n",
        "\n",
        "t-statistic estimation:\n",
        "\n",
        "$$ \\hat{t}= \\frac{\\bar{X} - \\mu_0}{\\frac{\\hat{\\sigma}}{\\sqrt{n}}}  $$\n",
        "\n",
        "p-value estiamtion:\n",
        "\n",
        "$$ P(|t| >\\hat{t}) = 2 \\times P(t >\\hat{t}) = 2 \\times \\left(1- P(t < \\hat{t}) \\right)   $$"
      ],
      "metadata": {
        "id": "fBuqG7NrxFp6"
      }
    },
    {
      "cell_type": "code",
      "source": [
        "tstat <- (mean(weights) - mu0) *sqrt(length(weights)) / sd(weights)\n",
        "round(tstat,4)"
      ],
      "metadata": {
        "id": "rE9upeDtV1zI",
        "colab": {
          "base_uri": "https://localhost:8080/",
          "height": 34
        },
        "outputId": "f70281e0-81a7-4536-b976-3f64430a8f27"
      },
      "execution_count": null,
      "outputs": [
        {
          "output_type": "display_data",
          "data": {
            "text/html": [
              "2.5674"
            ],
            "text/markdown": "2.5674",
            "text/latex": "2.5674",
            "text/plain": [
              "[1] 2.5674"
            ]
          },
          "metadata": {}
        }
      ]
    },
    {
      "cell_type": "code",
      "source": [
        "# P(∣t∣>2.5)=2×P(t>2.57)=1-2(p(t<2.57))\n",
        "\n",
        "df <- 19  # Degrees of freedom (n-1 in one-smaple t-test)\n",
        "p_value <- 2 * (1 - pt(2.5674, df))\n",
        "round(p_value,4)\n"
      ],
      "metadata": {
        "id": "NYy16s7iwZVF",
        "colab": {
          "base_uri": "https://localhost:8080/",
          "height": 34
        },
        "outputId": "532a6b58-1a16-4869-ad4f-29621350045f"
      },
      "execution_count": null,
      "outputs": [
        {
          "output_type": "display_data",
          "data": {
            "text/html": [
              "0.0188"
            ],
            "text/markdown": "0.0188",
            "text/latex": "0.0188",
            "text/plain": [
              "[1] 0.0188"
            ]
          },
          "metadata": {}
        }
      ]
    },
    {
      "cell_type": "code",
      "source": [
        "summary(weights)"
      ],
      "metadata": {
        "id": "cWASAcsRun3w",
        "colab": {
          "base_uri": "https://localhost:8080/",
          "height": 52
        },
        "outputId": "ada95e85-833a-4a33-b367-cf34707e7da3"
      },
      "execution_count": null,
      "outputs": [
        {
          "output_type": "display_data",
          "data": {
            "text/plain": [
              "   Min. 1st Qu.  Median    Mean 3rd Qu.    Max. \n",
              "  20.88   22.94   25.09   26.59   29.47   39.73 "
            ]
          },
          "metadata": {}
        }
      ]
    },
    {
      "cell_type": "code",
      "source": [
        "# adding an outlierr with a weight of 50\n",
        "weights <- c(31.41, 28.29, 22.82, 26.07, 31.97, 22.60, 31.47, 29.18, 22.98, 23.26, 23.48, 20.88, 28.44, 30.34, 23.14, 22.80, 24.47, 39.73, 25.71, 100)\n",
        "mu0 <- 23.89338\n",
        "t.test(weights, mu = mu0)"
      ],
      "metadata": {
        "id": "cAIbRSQSTwqV",
        "colab": {
          "base_uri": "https://localhost:8080/",
          "height": 208
        },
        "outputId": "c7938567-cbdc-4c87-91ce-6872bbb9d044"
      },
      "execution_count": null,
      "outputs": [
        {
          "output_type": "display_data",
          "data": {
            "text/plain": [
              "\n",
              "\tOne Sample t-test\n",
              "\n",
              "data:  weights\n",
              "t = 1.7248, df = 19, p-value = 0.1008\n",
              "alternative hypothesis: true mean is not equal to 23.89338\n",
              "95 percent confidence interval:\n",
              " 22.493 38.411\n",
              "sample estimates:\n",
              "mean of x \n",
              "   30.452 \n"
            ]
          },
          "metadata": {}
        }
      ]
    },
    {
      "cell_type": "code",
      "source": [
        "# adding an outlierr with a weight of 10\n",
        "weights <- c(31.41, 28.29, 22.82, 26.07, 31.97, 22.60, 31.47, 29.18, 22.98, 23.26, 23.48, 20.88, 28.44, 30.34, 23.14, 22.80, 24.47, 39.73, 25.71, 10)\n",
        "mu0 <- 23.89338\n",
        "t.test(weights, mu = mu0)"
      ],
      "metadata": {
        "id": "Z7eatVItvHIl",
        "colab": {
          "base_uri": "https://localhost:8080/",
          "height": 208
        },
        "outputId": "0920a610-8278-4bfc-8a98-603235ce8a48"
      },
      "execution_count": null,
      "outputs": [
        {
          "output_type": "display_data",
          "data": {
            "text/plain": [
              "\n",
              "\tOne Sample t-test\n",
              "\n",
              "data:  weights\n",
              "t = 1.549, df = 19, p-value = 0.1379\n",
              "alternative hypothesis: true mean is not equal to 23.89338\n",
              "95 percent confidence interval:\n",
              " 23.1704 28.7336\n",
              "sample estimates:\n",
              "mean of x \n",
              "   25.952 \n"
            ]
          },
          "metadata": {}
        }
      ]
    },
    {
      "cell_type": "markdown",
      "source": [
        "---"
      ],
      "metadata": {
        "id": "jNrRpHJhBjzd"
      }
    },
    {
      "cell_type": "markdown",
      "source": [
        "**Two sample t-test:**\n",
        "\n",
        "We use `CO2` data frame, a dataset built into R showing the results of an experiment on the cold tolerance of grass. Grass samples from two regions (`Quebec` and `Mississippi`) were grown in either a `chilled` or `nonchilled` environment, and their CO2 uptake rate was tested."
      ],
      "metadata": {
        "id": "_8X38CQ5_AMA"
      }
    },
    {
      "cell_type": "code",
      "source": [
        "head(CO2,5)\n",
        "tail(CO2,5)"
      ],
      "metadata": {
        "id": "BuL6mxRqAxOe",
        "colab": {
          "base_uri": "https://localhost:8080/",
          "height": 492
        },
        "outputId": "cc621047-a3b6-481a-9f4f-51a687abe255"
      },
      "execution_count": null,
      "outputs": [
        {
          "output_type": "display_data",
          "data": {
            "text/html": [
              "<table class=\"dataframe\">\n",
              "<caption>A nfnGroupedData: 5 × 5</caption>\n",
              "<thead>\n",
              "\t<tr><th></th><th scope=col>Plant</th><th scope=col>Type</th><th scope=col>Treatment</th><th scope=col>conc</th><th scope=col>uptake</th></tr>\n",
              "\t<tr><th></th><th scope=col>&lt;ord&gt;</th><th scope=col>&lt;fct&gt;</th><th scope=col>&lt;fct&gt;</th><th scope=col>&lt;dbl&gt;</th><th scope=col>&lt;dbl&gt;</th></tr>\n",
              "</thead>\n",
              "<tbody>\n",
              "\t<tr><th scope=row>1</th><td>Qn1</td><td>Quebec</td><td>nonchilled</td><td> 95</td><td>16.0</td></tr>\n",
              "\t<tr><th scope=row>2</th><td>Qn1</td><td>Quebec</td><td>nonchilled</td><td>175</td><td>30.4</td></tr>\n",
              "\t<tr><th scope=row>3</th><td>Qn1</td><td>Quebec</td><td>nonchilled</td><td>250</td><td>34.8</td></tr>\n",
              "\t<tr><th scope=row>4</th><td>Qn1</td><td>Quebec</td><td>nonchilled</td><td>350</td><td>37.2</td></tr>\n",
              "\t<tr><th scope=row>5</th><td>Qn1</td><td>Quebec</td><td>nonchilled</td><td>500</td><td>35.3</td></tr>\n",
              "</tbody>\n",
              "</table>\n"
            ],
            "text/markdown": "\nA nfnGroupedData: 5 × 5\n\n| <!--/--> | Plant &lt;ord&gt; | Type &lt;fct&gt; | Treatment &lt;fct&gt; | conc &lt;dbl&gt; | uptake &lt;dbl&gt; |\n|---|---|---|---|---|---|\n| 1 | Qn1 | Quebec | nonchilled |  95 | 16.0 |\n| 2 | Qn1 | Quebec | nonchilled | 175 | 30.4 |\n| 3 | Qn1 | Quebec | nonchilled | 250 | 34.8 |\n| 4 | Qn1 | Quebec | nonchilled | 350 | 37.2 |\n| 5 | Qn1 | Quebec | nonchilled | 500 | 35.3 |\n\n",
            "text/latex": "A nfnGroupedData: 5 × 5\n\\begin{tabular}{r|lllll}\n  & Plant & Type & Treatment & conc & uptake\\\\\n  & <ord> & <fct> & <fct> & <dbl> & <dbl>\\\\\n\\hline\n\t1 & Qn1 & Quebec & nonchilled &  95 & 16.0\\\\\n\t2 & Qn1 & Quebec & nonchilled & 175 & 30.4\\\\\n\t3 & Qn1 & Quebec & nonchilled & 250 & 34.8\\\\\n\t4 & Qn1 & Quebec & nonchilled & 350 & 37.2\\\\\n\t5 & Qn1 & Quebec & nonchilled & 500 & 35.3\\\\\n\\end{tabular}\n",
            "text/plain": [
              "  Plant Type   Treatment  conc uptake\n",
              "1 Qn1   Quebec nonchilled  95  16.0  \n",
              "2 Qn1   Quebec nonchilled 175  30.4  \n",
              "3 Qn1   Quebec nonchilled 250  34.8  \n",
              "4 Qn1   Quebec nonchilled 350  37.2  \n",
              "5 Qn1   Quebec nonchilled 500  35.3  "
            ]
          },
          "metadata": {}
        },
        {
          "output_type": "display_data",
          "data": {
            "text/html": [
              "<table class=\"dataframe\">\n",
              "<caption>A nfnGroupedData: 5 × 5</caption>\n",
              "<thead>\n",
              "\t<tr><th></th><th scope=col>Plant</th><th scope=col>Type</th><th scope=col>Treatment</th><th scope=col>conc</th><th scope=col>uptake</th></tr>\n",
              "\t<tr><th></th><th scope=col>&lt;ord&gt;</th><th scope=col>&lt;fct&gt;</th><th scope=col>&lt;fct&gt;</th><th scope=col>&lt;dbl&gt;</th><th scope=col>&lt;dbl&gt;</th></tr>\n",
              "</thead>\n",
              "<tbody>\n",
              "\t<tr><th scope=row>80</th><td>Mc3</td><td>Mississippi</td><td>chilled</td><td> 250</td><td>17.9</td></tr>\n",
              "\t<tr><th scope=row>81</th><td>Mc3</td><td>Mississippi</td><td>chilled</td><td> 350</td><td>17.9</td></tr>\n",
              "\t<tr><th scope=row>82</th><td>Mc3</td><td>Mississippi</td><td>chilled</td><td> 500</td><td>17.9</td></tr>\n",
              "\t<tr><th scope=row>83</th><td>Mc3</td><td>Mississippi</td><td>chilled</td><td> 675</td><td>18.9</td></tr>\n",
              "\t<tr><th scope=row>84</th><td>Mc3</td><td>Mississippi</td><td>chilled</td><td>1000</td><td>19.9</td></tr>\n",
              "</tbody>\n",
              "</table>\n"
            ],
            "text/markdown": "\nA nfnGroupedData: 5 × 5\n\n| <!--/--> | Plant &lt;ord&gt; | Type &lt;fct&gt; | Treatment &lt;fct&gt; | conc &lt;dbl&gt; | uptake &lt;dbl&gt; |\n|---|---|---|---|---|---|\n| 80 | Mc3 | Mississippi | chilled |  250 | 17.9 |\n| 81 | Mc3 | Mississippi | chilled |  350 | 17.9 |\n| 82 | Mc3 | Mississippi | chilled |  500 | 17.9 |\n| 83 | Mc3 | Mississippi | chilled |  675 | 18.9 |\n| 84 | Mc3 | Mississippi | chilled | 1000 | 19.9 |\n\n",
            "text/latex": "A nfnGroupedData: 5 × 5\n\\begin{tabular}{r|lllll}\n  & Plant & Type & Treatment & conc & uptake\\\\\n  & <ord> & <fct> & <fct> & <dbl> & <dbl>\\\\\n\\hline\n\t80 & Mc3 & Mississippi & chilled &  250 & 17.9\\\\\n\t81 & Mc3 & Mississippi & chilled &  350 & 17.9\\\\\n\t82 & Mc3 & Mississippi & chilled &  500 & 17.9\\\\\n\t83 & Mc3 & Mississippi & chilled &  675 & 18.9\\\\\n\t84 & Mc3 & Mississippi & chilled & 1000 & 19.9\\\\\n\\end{tabular}\n",
            "text/plain": [
              "   Plant Type        Treatment conc uptake\n",
              "80 Mc3   Mississippi chilled    250 17.9  \n",
              "81 Mc3   Mississippi chilled    350 17.9  \n",
              "82 Mc3   Mississippi chilled    500 17.9  \n",
              "83 Mc3   Mississippi chilled    675 18.9  \n",
              "84 Mc3   Mississippi chilled   1000 19.9  "
            ]
          },
          "metadata": {}
        }
      ]
    },
    {
      "cell_type": "code",
      "source": [
        "unique(CO2$Treatment)"
      ],
      "metadata": {
        "id": "xMgrzgJ8BFeZ",
        "colab": {
          "base_uri": "https://localhost:8080/",
          "height": 52
        },
        "outputId": "1965b77a-f293-4f85-9fb7-3ebd3eef3314"
      },
      "execution_count": null,
      "outputs": [
        {
          "output_type": "display_data",
          "data": {
            "text/html": [
              "<style>\n",
              ".list-inline {list-style: none; margin:0; padding: 0}\n",
              ".list-inline>li {display: inline-block}\n",
              ".list-inline>li:not(:last-child)::after {content: \"\\00b7\"; padding: 0 .5ex}\n",
              "</style>\n",
              "<ol class=list-inline><li>nonchilled</li><li>chilled</li></ol>\n",
              "\n",
              "<details>\n",
              "\t<summary style=display:list-item;cursor:pointer>\n",
              "\t\t<strong>Levels</strong>:\n",
              "\t</summary>\n",
              "\t<style>\n",
              "\t.list-inline {list-style: none; margin:0; padding: 0}\n",
              "\t.list-inline>li {display: inline-block}\n",
              "\t.list-inline>li:not(:last-child)::after {content: \"\\00b7\"; padding: 0 .5ex}\n",
              "\t</style>\n",
              "\t<ol class=list-inline><li>'nonchilled'</li><li>'chilled'</li></ol>\n",
              "</details>"
            ],
            "text/markdown": "1. nonchilled\n2. chilled\n\n\n\n**Levels**: 1. 'nonchilled'\n2. 'chilled'\n\n\n",
            "text/latex": "\\begin{enumerate*}\n\\item nonchilled\n\\item chilled\n\\end{enumerate*}\n\n\\emph{Levels}: \\begin{enumerate*}\n\\item 'nonchilled'\n\\item 'chilled'\n\\end{enumerate*}\n",
            "text/plain": [
              "[1] nonchilled chilled   \n",
              "Levels: nonchilled chilled"
            ]
          },
          "metadata": {}
        }
      ]
    },
    {
      "cell_type": "code",
      "source": [
        "t.test(uptake ~ Treatment, data = CO2)"
      ],
      "metadata": {
        "id": "ZUnsaJYLBMBI",
        "colab": {
          "base_uri": "https://localhost:8080/",
          "height": 208
        },
        "outputId": "836f71ad-3279-4573-f61d-44455219c458"
      },
      "execution_count": null,
      "outputs": [
        {
          "output_type": "display_data",
          "data": {
            "text/plain": [
              "\n",
              "\tWelch Two Sample t-test\n",
              "\n",
              "data:  uptake by Treatment\n",
              "t = 3.0485, df = 80.945, p-value = 0.003107\n",
              "alternative hypothesis: true difference in means between group nonchilled and group chilled is not equal to 0\n",
              "95 percent confidence interval:\n",
              "  2.382366 11.336682\n",
              "sample estimates:\n",
              "mean in group nonchilled    mean in group chilled \n",
              "                30.64286                 23.78333 \n"
            ]
          },
          "metadata": {}
        }
      ]
    },
    {
      "cell_type": "markdown",
      "source": [
        "---"
      ],
      "metadata": {
        "id": "lJimA-AGBmLu"
      }
    },
    {
      "cell_type": "markdown",
      "source": [
        "**Pairing data t-test Example:**\n",
        "\n",
        "The weight of 10 mice is measured before and after 1 of high-fat diet.\n"
      ],
      "metadata": {
        "id": "j50_oB8JzGqW"
      }
    },
    {
      "cell_type": "code",
      "source": [
        "nonfeeding\t<- c(42.2,51.7,59.8,66.5,81.9,82.0,81.3,81.3,96.0,104.1)\n",
        "feeding<- c(71.0,77.3,82.6,96.1,106.6,112.8,121.2,126.4,127.5,143.1)"
      ],
      "metadata": {
        "id": "Kr8kEsh-8raC"
      },
      "execution_count": null,
      "outputs": []
    },
    {
      "cell_type": "code",
      "source": [
        "t.test(feeding,nonfeeding, paired=TRUE)"
      ],
      "metadata": {
        "id": "-phW-OdD9Fm6",
        "colab": {
          "base_uri": "https://localhost:8080/",
          "height": 208
        },
        "outputId": "8b2c00d9-e047-4043-b1b5-3550939fb64f"
      },
      "execution_count": null,
      "outputs": [
        {
          "output_type": "display_data",
          "data": {
            "text/plain": [
              "\n",
              "\tPaired t-test\n",
              "\n",
              "data:  feeding and nonfeeding\n",
              "t = 13.774, df = 9, p-value = 2.361e-07\n",
              "alternative hypothesis: true mean difference is not equal to 0\n",
              "95 percent confidence interval:\n",
              " 26.56058 36.99942\n",
              "sample estimates:\n",
              "mean difference \n",
              "          31.78 \n"
            ]
          },
          "metadata": {}
        }
      ]
    },
    {
      "cell_type": "code",
      "source": [
        "t.test(feeding,nonfeeding)"
      ],
      "metadata": {
        "id": "ZYJmJJInHzXq",
        "colab": {
          "base_uri": "https://localhost:8080/",
          "height": 208
        },
        "outputId": "16625ebc-4c6c-40a0-f3df-b2e90443f1c6"
      },
      "execution_count": null,
      "outputs": [
        {
          "output_type": "display_data",
          "data": {
            "text/plain": [
              "\n",
              "\tWelch Two Sample t-test\n",
              "\n",
              "data:  feeding and nonfeeding\n",
              "t = 3.2493, df = 17.214, p-value = 0.004659\n",
              "alternative hypothesis: true difference in means is not equal to 0\n",
              "95 percent confidence interval:\n",
              " 11.16427 52.39573\n",
              "sample estimates:\n",
              "mean of x mean of y \n",
              "   106.46     74.68 \n"
            ]
          },
          "metadata": {}
        }
      ]
    },
    {
      "cell_type": "markdown",
      "source": [
        "---\n",
        "---"
      ],
      "metadata": {
        "id": "YCYT90Gxn7Rq"
      }
    },
    {
      "cell_type": "markdown",
      "source": [
        "# **Predictive Models**\n",
        "\n",
        "> **Linear Regression**\n",
        "\n",
        "> **Classification**\n",
        "\n",
        "> **Clustering**\n",
        "\n",
        "---\n",
        "---"
      ],
      "metadata": {
        "id": "1GIrM0WTBty_"
      }
    },
    {
      "cell_type": "markdown",
      "source": [
        "# **Linear Regression:**\n",
        "\n",
        "---\n",
        "\n"
      ],
      "metadata": {
        "id": "j0ZGfewbnTbL"
      }
    },
    {
      "cell_type": "markdown",
      "source": [
        "***Linear Regression:*** models the relationship between microbial features (predictors) and a continuous outcome.\n",
        "\n",
        "*   **Advantages:** Simple and interpretable\n",
        "*   **Disadvantages:** Assumes a linear relationship, which may not always hold\n"
      ],
      "metadata": {
        "id": "_eGaaWOJMYJi"
      }
    },
    {
      "cell_type": "markdown",
      "source": [
        "***Example1 (Synthetic Data 1):*** Predicting BMI based on gut microbiome composition.\n",
        "\n",
        "**`lm`** function in `R` is used to fit linear models, e.g. linear :regression.\n"
      ],
      "metadata": {
        "id": "0GLNk2uHNLzY"
      }
    },
    {
      "cell_type": "code",
      "source": [
        "library(ggplot2)\n",
        "\n",
        "# Set seed for reproducibility\n",
        "set.seed(42)\n",
        "\n",
        "# Generate a dataset with a strong correlation\n",
        "microbiome_data <- data.frame(\n",
        "  microbial_abundance = rnorm(100, mean = 5, sd = 1)\n",
        ")\n",
        "\n",
        "# Introduce a strong linear relationship with some noise\n",
        "microbiome_data$BMI <- 22 + 3 * microbiome_data$microbial_abundance + rnorm(100, mean = 0, sd = 2)\n",
        "\n",
        "summary(microbiome_data)"
      ],
      "metadata": {
        "id": "6OSG0vcOLg1j"
      },
      "execution_count": null,
      "outputs": []
    },
    {
      "cell_type": "code",
      "source": [
        "plot(BMI~microbial_abundance, data = microbiome_data)"
      ],
      "metadata": {
        "id": "WaKbA6TZQ_1C"
      },
      "execution_count": null,
      "outputs": []
    },
    {
      "cell_type": "code",
      "source": [
        "# Fit linear regression model\n",
        "model <- lm(BMI ~ microbial_abundance, data = microbiome_data)\n",
        "\n",
        "# Display summary of the model\n",
        "summary(model)"
      ],
      "metadata": {
        "id": "SNY_gVweQtCj"
      },
      "execution_count": null,
      "outputs": []
    },
    {
      "cell_type": "code",
      "source": [
        "# Plot regression line\n",
        "ggplot(microbiome_data, aes(x = microbial_abundance, y = BMI)) +\n",
        "  geom_point(color = \"blue\") +\n",
        "  geom_smooth(method = \"lm\", col = \"red\") +\n",
        "  labs(title = \"Microbial Abundance vs. BMI\", x = \"Microbial Abundance\", y = \"BMI\")"
      ],
      "metadata": {
        "id": "mnksiOAGRhXh"
      },
      "execution_count": null,
      "outputs": []
    },
    {
      "cell_type": "markdown",
      "source": [
        "\n",
        "\n",
        "***Example1 (Synthetic Data 2):***\n",
        "\n"
      ],
      "metadata": {
        "id": "Y7ag_IZizyi5"
      }
    },
    {
      "cell_type": "code",
      "source": [
        "# Load necessary library\n",
        "library(ggplot2)\n",
        "\n",
        "# Sample microbiome dataset\n",
        "microbiome_data <- data.frame(\n",
        "  microbial_abundance = c(5.1, 4.9, 6.7, 5.5, 4.8),\n",
        "  BMI = c(22, 24, 27, 26, 23)\n",
        ")\n",
        "\n",
        "microbiome_data"
      ],
      "metadata": {
        "id": "oHhHxXrqx3CM"
      },
      "execution_count": null,
      "outputs": []
    },
    {
      "cell_type": "code",
      "source": [
        "plot(BMI~microbial_abundance, data = microbiome_data)"
      ],
      "metadata": {
        "id": "L-4cKXqJ0rJq"
      },
      "execution_count": null,
      "outputs": []
    },
    {
      "cell_type": "code",
      "source": [
        "# Fit linear regression model\n",
        "model <- lm(BMI ~ microbial_abundance, data = microbiome_data)\n",
        "\n",
        "# Display summary of the model\n",
        "summary(model)"
      ],
      "metadata": {
        "id": "8Qb9txVf03UT"
      },
      "execution_count": null,
      "outputs": []
    },
    {
      "cell_type": "code",
      "source": [
        "# Plot regression line\n",
        "ggplot(microbiome_data, aes(x = microbial_abundance, y = BMI)) +\n",
        "  geom_point(color = \"blue\") +\n",
        "  geom_smooth(method = \"lm\", col = \"red\") +\n",
        "  labs(title = \"Microbial Abundance vs. BMI\", x = \"Microbial Abundance\", y = \"BMI\")"
      ],
      "metadata": {
        "id": "MvvfXO3C0Q8I"
      },
      "execution_count": null,
      "outputs": []
    },
    {
      "cell_type": "markdown",
      "source": [
        "---"
      ],
      "metadata": {
        "id": "o3TP0GAbXwhS"
      }
    },
    {
      "cell_type": "markdown",
      "source": [
        "**Example 2 (Income and Happiness)**\n",
        "\n",
        "Is there a linear relationship between income and happiness in a survey of 500 people with incomes ranging from 15k to 75k, where happiness is measured on a scale of 1 to 10.\n",
        "\n",
        "Source: https://www.scribbr.com/statistics/linear-regression-in-r/"
      ],
      "metadata": {
        "id": "lAXKoBN1XyME"
      }
    },
    {
      "cell_type": "code",
      "source": [
        "income_data <- read.csv(file= url(\"https://raw.githubusercontent.com/hamedjalali1982/Microbiome_2024-25/refs/heads/main/data/income.data.csv\"), sep=\",\", header = TRUE)"
      ],
      "metadata": {
        "id": "q4WW0NdbXxCm"
      },
      "execution_count": null,
      "outputs": []
    },
    {
      "cell_type": "code",
      "source": [
        "head (income_data)"
      ],
      "metadata": {
        "id": "p5oxLs6tl-Wq"
      },
      "execution_count": null,
      "outputs": []
    },
    {
      "cell_type": "code",
      "source": [
        "summary(income_data)\n",
        "\n"
      ],
      "metadata": {
        "id": "CLmkjWHTmrPD"
      },
      "execution_count": null,
      "outputs": []
    },
    {
      "cell_type": "code",
      "source": [
        "plot(happiness ~ income, data = income_data)\n"
      ],
      "metadata": {
        "id": "g8Co1oYzmuZ0"
      },
      "execution_count": null,
      "outputs": []
    },
    {
      "cell_type": "code",
      "source": [
        "income.happiness.Reg <- lm(happiness ~ income, data = income_data)\n",
        "\n",
        "summary(income.happiness.Reg)"
      ],
      "metadata": {
        "id": "U5Jtp7VZnG9b"
      },
      "execution_count": null,
      "outputs": []
    },
    {
      "cell_type": "code",
      "source": [
        "# Plot regression line\n",
        "ggplot(income_data, aes(x = income, y = happiness)) +\n",
        "  geom_point(color = \"blue\") +\n",
        "  geom_smooth(method = \"lm\", col = \"red\") +\n",
        "  labs(title = \"Income vs. Happiness\", x = \"Income\", y = \"Happiness\") +\n",
        "  theme(plot.title = element_text(face=\"bold\", hjust=0.5, size= 20),\n",
        "        axis.text.x = element_text(face=\"bold\", size = 15),\n",
        "        axis.title.x = element_text(face=\"bold\", size = 20),\n",
        "        axis.text.y = element_text(face=\"bold\", size = 15),\n",
        "        axis.title.y = element_text(face=\"bold\", size = 20))"
      ],
      "metadata": {
        "id": "4JMacGaynb0S"
      },
      "execution_count": null,
      "outputs": []
    },
    {
      "cell_type": "markdown",
      "source": [
        "---"
      ],
      "metadata": {
        "id": "3Gl6_3ZFt9TH"
      }
    },
    {
      "cell_type": "markdown",
      "source": [
        "**Example 3 (Multiple regression)**\n",
        "Multiple regression: biking, smoking, and heart disease\n",
        "\n",
        "Is there a linear relationship between heart disease as dependent variable and biking and smoking as independent variables in a survey of 500 towns. The rates of biking to work range between 1 and 75%, rates of smoking between 0.5 and 30%, and rates of heart disease between 0.5% and 20.5%.\n",
        "\n",
        "Source: https://www.scribbr.com/statistics/linear-regression-in-r/"
      ],
      "metadata": {
        "id": "BNFBCSr5sbQw"
      }
    },
    {
      "cell_type": "code",
      "source": [
        "heart <- read.csv(file= url(\"https://raw.githubusercontent.com/hamedjalali1982/Microbiome_2024-25/refs/heads/main/data/heart.data.csv\"), sep=\",\",header = TRUE)"
      ],
      "metadata": {
        "id": "ukQC1yS-t7XU"
      },
      "execution_count": null,
      "outputs": []
    },
    {
      "cell_type": "code",
      "source": [
        "dim(heart)"
      ],
      "metadata": {
        "id": "c3JwrOv-R4GQ"
      },
      "execution_count": null,
      "outputs": []
    },
    {
      "cell_type": "code",
      "source": [
        "head(heart)"
      ],
      "metadata": {
        "id": "K7AXQ8JjuMwX"
      },
      "execution_count": null,
      "outputs": []
    },
    {
      "cell_type": "code",
      "source": [
        "summary(heart)"
      ],
      "metadata": {
        "id": "PEQoFpYZuT0R"
      },
      "execution_count": null,
      "outputs": []
    },
    {
      "cell_type": "code",
      "source": [
        "plot(heart.disease ~ biking, data=heart)"
      ],
      "metadata": {
        "id": "CE1fWCObwQWf"
      },
      "execution_count": null,
      "outputs": []
    },
    {
      "cell_type": "code",
      "source": [
        "plot(heart.disease ~ smoking, data=heart)\n"
      ],
      "metadata": {
        "id": "WUvepSxkwU9Z"
      },
      "execution_count": null,
      "outputs": []
    },
    {
      "cell_type": "code",
      "source": [
        "heart.disease.Reg<-lm(heart.disease ~ biking + smoking, data = heart)\n",
        "\n",
        "summary(heart.disease.Reg)"
      ],
      "metadata": {
        "id": "ipYUnvPOwqC2"
      },
      "execution_count": null,
      "outputs": []
    },
    {
      "cell_type": "markdown",
      "source": [
        "---\n",
        "---"
      ],
      "metadata": {
        "id": "gXaHD1TJqN-V"
      }
    },
    {
      "cell_type": "markdown",
      "source": [
        "#**Classification:**\n"
      ],
      "metadata": {
        "id": "IVN1jHTi5M-j"
      }
    },
    {
      "cell_type": "markdown",
      "source": [
        "Categorize samples based on microbiome data.\n",
        "\n",
        "**First Example**\n",
        "\n",
        "**Synthetic data set with Logistic Regression**: Predicts binary outcomes (e.g., healthy vs diseased microbiome profiles). To this end, ```glm``` function in R is used."
      ],
      "metadata": {
        "id": "2DBSofbz5ish"
      }
    },
    {
      "cell_type": "code",
      "source": [
        "# Load necessary library\n",
        "library(ggplot2)\n",
        "\n",
        "# Set seed for reproducibility\n",
        "set.seed(42)\n"
      ],
      "metadata": {
        "id": "sVKcNkkC9Swp"
      },
      "execution_count": null,
      "outputs": []
    },
    {
      "cell_type": "code",
      "source": [
        "\n",
        "# Generate a dataset with a strong relationship\n",
        "microbiome_data <- data.frame(\n",
        "  taxon1 = rnorm(100, mean = 5, sd = 1)\n",
        ")\n",
        "\n",
        "# Create a binary outcome strongly dependent on taxon1\n",
        "microbiome_data$disease_status <- ifelse(microbiome_data$taxon1 + rnorm(100, 0, 1) > 5, 1, 0)\n"
      ],
      "metadata": {
        "id": "2uu5evQz8BdH"
      },
      "execution_count": null,
      "outputs": []
    },
    {
      "cell_type": "code",
      "source": [
        "head(microbiome_data)"
      ],
      "metadata": {
        "id": "Wk4XOj-TLdOq"
      },
      "execution_count": null,
      "outputs": []
    },
    {
      "cell_type": "code",
      "source": [
        "str(microbiome_data)"
      ],
      "metadata": {
        "id": "I8vpMx8YLtfi"
      },
      "execution_count": null,
      "outputs": []
    },
    {
      "cell_type": "code",
      "source": [
        "# Fit logistic regression model\n",
        "log_model <- glm(disease_status ~ taxon1, data = microbiome_data, family = binomial)\n",
        "\n",
        "# Display model summary\n",
        "summary(log_model)"
      ],
      "metadata": {
        "id": "H9WCs7UMLo9i"
      },
      "execution_count": null,
      "outputs": []
    },
    {
      "cell_type": "markdown",
      "source": [
        "**Estimate:** Represents the effect of `taxon1` on the log-odds of being diseased.\n",
        "\n",
        "The `Intercept` (-7.215) is the log-odds of disease when `taxon1 = 0`.\n",
        "\n",
        "The `taxon1` coefficient (1.444) means that for each unit increase in `taxon1`, the log-odds of disease increase by 1.444."
      ],
      "metadata": {
        "id": "ozMMMdB_OG4Q"
      }
    },
    {
      "cell_type": "code",
      "source": [
        "# log_model$coefficients\n",
        "coef(log_model)"
      ],
      "metadata": {
        "id": "Fhxi0ZajN3r7"
      },
      "execution_count": null,
      "outputs": []
    },
    {
      "cell_type": "markdown",
      "source": [
        "**Odds Ratio Calculation:**\n",
        "\n",
        "To interpret the coefficients in terms of odds, we can use `exe()` function in R."
      ],
      "metadata": {
        "id": "UA2K4TwES1Xh"
      }
    },
    {
      "cell_type": "code",
      "source": [
        "# Odds Ratio Calculation\n",
        "# To interpret the coefficients in terms of odds:\n",
        "exp(coef(log_model))"
      ],
      "metadata": {
        "id": "NGQIu9qGSYWF"
      },
      "execution_count": null,
      "outputs": []
    },
    {
      "cell_type": "markdown",
      "source": [
        "Odds ratio of 4.239 for taxon1: A one-unit increase in taxon1 increases the odds of disease by a factor of 4.239.\n",
        "\n",
        "**Predictions**:\n",
        "To obtain predicted probabilities, the `predict()` function in R can be used.\n",
        "> Values close to 1 indicate a high probability of disease.\n",
        "\n",
        "> Values close to 0 indicate a low probability of disease."
      ],
      "metadata": {
        "id": "fqT2Tx1FTaan"
      }
    },
    {
      "cell_type": "code",
      "source": [
        "microbiome_data$predicted_prob <- predict(log_model, type = \"response\")"
      ],
      "metadata": {
        "id": "UzKKFZXOpPPU"
      },
      "execution_count": null,
      "outputs": []
    },
    {
      "cell_type": "code",
      "source": [
        "head(microbiome_data[,1:3],10)\n"
      ],
      "metadata": {
        "id": "TxUsAJEnJLbZ"
      },
      "execution_count": null,
      "outputs": []
    },
    {
      "cell_type": "code",
      "source": [
        "microbiome_data$predicted_status <- ifelse(predict(log_model, type = \"response\") > 0.5, 1 ,0)\n",
        "\n",
        "head(microbiome_data[,1:4],10)"
      ],
      "metadata": {
        "id": "T4YCEvttlqmw"
      },
      "execution_count": null,
      "outputs": []
    },
    {
      "cell_type": "code",
      "source": [
        "prediction <- microbiome_data$predicted_status\n",
        "status <- microbiome_data$disease_status\n",
        "\n",
        "table_data <- table(status, prediction, deparse.level = 2)\n",
        "print(table_data)\n"
      ],
      "metadata": {
        "id": "RlgbGu7Em1sG"
      },
      "execution_count": null,
      "outputs": []
    },
    {
      "cell_type": "markdown",
      "source": [
        "---"
      ],
      "metadata": {
        "id": "mhBZhd-b2yxl"
      }
    },
    {
      "cell_type": "markdown",
      "source": [
        "**IRIS dataset:**\n",
        "\n",
        "IRIS is a multivariate data set used by the British statistician and biologist Ronald Fisher in 1936. The data set consists of 50 samples from each of three species of Iris (Iris setosa, Iris virginica and Iris versicolor). Four features were measured from each sample: the length and the width of the sepals and petals, in centimeters."
      ],
      "metadata": {
        "id": "lAENhD681XYq"
      }
    },
    {
      "cell_type": "code",
      "source": [
        "library(datasets)\n",
        "iris_data<- iris\n",
        "data(iris)\n",
        "summary(iris)"
      ],
      "metadata": {
        "id": "yyxfsN7e2swP"
      },
      "execution_count": null,
      "outputs": []
    },
    {
      "cell_type": "code",
      "source": [
        "head(iris)"
      ],
      "metadata": {
        "id": "8ENQTTpc8XGA"
      },
      "execution_count": null,
      "outputs": []
    },
    {
      "cell_type": "code",
      "source": [
        "str(iris)"
      ],
      "metadata": {
        "id": "GEgF83Bx2zm3"
      },
      "execution_count": null,
      "outputs": []
    },
    {
      "cell_type": "code",
      "source": [
        "levels(iris$Species) #there are three levels of species.\n"
      ],
      "metadata": {
        "id": "3t_5kTbP3CO3"
      },
      "execution_count": null,
      "outputs": []
    },
    {
      "cell_type": "code",
      "source": [
        "library(dplyr) #Load dplyr for mutate function"
      ],
      "metadata": {
        "id": "5pn-SOHSSTPr"
      },
      "execution_count": null,
      "outputs": []
    },
    {
      "cell_type": "code",
      "source": [
        "\n",
        "iris <- iris %>%\n",
        "  mutate(setosa = as.integer(Species == \"setosa\"))\n",
        "head(iris)"
      ],
      "metadata": {
        "id": "sEzbK9p-Ti-o"
      },
      "execution_count": null,
      "outputs": []
    },
    {
      "cell_type": "code",
      "source": [
        "plot(Sepal.Length ~ Petal.Length,\n",
        "       xlab = \"Petal Length (cm)\",\n",
        "       ylab = \"Sepal Length (cm)\",\n",
        "       pch = c(16, 17, 18)[as.numeric(Species)],  # different 'pch' types\n",
        "       main = \"Iris Dataset\",\n",
        "       col = c(\"red\", \"green\",\"blue\")[as.numeric(Species)],\n",
        "       data = iris)\n",
        "\n",
        "\n",
        "\n",
        "legend(\"topleft\", # specify the location of the legend\n",
        "      levels(iris$Species), # specify the levels of species\n",
        "      pch = c(16, 17, 18)[as.numeric(iris$Species)],  # different 'pch' types\n",
        "      col = c(\"red\", \"green\",\"blue\")\n",
        " )"
      ],
      "metadata": {
        "id": "PjvexxFe9NaW"
      },
      "execution_count": null,
      "outputs": []
    },
    {
      "cell_type": "markdown",
      "source": [
        "**Models:**\n",
        "\n",
        "`Logistic Regression` and `Decision Tree` are applied on the dataset for predicting the dependent variables (*species*).\n",
        "\n",
        "**Training and test datasets:**\n",
        "\n",
        "\n",
        "*   Before applying the models, the data set is divided to training (100 random samples) and test\n",
        " (50 random samples) sets\n",
        "*   We take `Setosa` as the positive class. We'll do this by creating a dummy variable, called \"Setosa\"."
      ],
      "metadata": {
        "id": "qHxMWCed3hlk"
      }
    },
    {
      "cell_type": "code",
      "source": [
        "## the training sample size : 100\n",
        "smp_size <- 100\n",
        "\n",
        "## set the seed to make your partition reproducible\n",
        "set.seed(123)\n",
        "train_ind <- sample(1:150, size = smp_size)\n",
        "\n",
        "iris_train <- iris[train_ind, ]\n",
        "iris_test <- iris[-train_ind, ]"
      ],
      "metadata": {
        "id": "M6FbeIHdxRS0"
      },
      "execution_count": null,
      "outputs": []
    },
    {
      "cell_type": "code",
      "source": [
        "nrow(iris)\n",
        "nrow(iris_train)\n",
        "nrow(iris_test)"
      ],
      "metadata": {
        "id": "u3e264PwNdHm"
      },
      "execution_count": null,
      "outputs": []
    },
    {
      "cell_type": "code",
      "source": [
        "model <- glm(setosa ~ Sepal.Length, data = iris_train,  family=binomial(link=logit))\n",
        "summary(model)"
      ],
      "metadata": {
        "id": "OUo7tLPU0V7H"
      },
      "execution_count": null,
      "outputs": []
    },
    {
      "cell_type": "code",
      "source": [
        "#Visualization of the Ttraining set\n",
        "\n",
        "ggplot(iris_train, aes(x= Sepal.Length, y = setosa)) +\n",
        "  geom_jitter(height = .05, alpha=.5) +\n",
        "  geom_smooth(method= \"glm\", method.args=list(family=\"binomial\"), se=FALSE ) +\n",
        "  theme_minimal()"
      ],
      "metadata": {
        "id": "DbFBbNmcWpRK"
      },
      "execution_count": null,
      "outputs": []
    },
    {
      "cell_type": "code",
      "source": [
        "predicted_val<-predict(model, iris_test, type=\"response\")\n",
        "head(predicted_val)"
      ],
      "metadata": {
        "id": "BzkjD5LGQWr4"
      },
      "execution_count": null,
      "outputs": []
    },
    {
      "cell_type": "code",
      "source": [
        "setosa_pred = ifelse(predicted_val > 0.5, 1 ,0)\n",
        "prediction<-data.frame(iris_test$Species,iris_test$setosa, setosa_pred)\n",
        "head(prediction,10)"
      ],
      "metadata": {
        "id": "dFgY565mVE8K"
      },
      "execution_count": null,
      "outputs": []
    },
    {
      "cell_type": "code",
      "source": [
        "table(prediction$iris_test.setosa, prediction$setosa_pred)\n",
        "#table(prediction$iris_test.setosa, prediction$setosa_pred, deparse.level = 2)"
      ],
      "metadata": {
        "id": "g1dMMKqQWSiv"
      },
      "execution_count": null,
      "outputs": []
    },
    {
      "cell_type": "code",
      "source": [
        "# Accuracy rate\n",
        "results <- table(prediction$iris_test.setosa, prediction$setosa_pred)\n",
        "sum(diag(results))/sum(results)"
      ],
      "metadata": {
        "id": "s87bxCmwVw1C"
      },
      "execution_count": null,
      "outputs": []
    },
    {
      "cell_type": "markdown",
      "source": [
        "---\n",
        "---"
      ],
      "metadata": {
        "id": "rafdc6pRZNh8"
      }
    },
    {
      "cell_type": "markdown",
      "source": [
        "**# Decision Tree**\n",
        "\n",
        "We use **`rpart`** and **`rpart.plot`** Inline code libraries in R."
      ],
      "metadata": {
        "id": "k83QEjkBZQBj"
      }
    },
    {
      "cell_type": "code",
      "source": [
        " install.packages(\"party\")\n"
      ],
      "metadata": {
        "id": "d9x0HITgaY4f"
      },
      "execution_count": null,
      "outputs": []
    },
    {
      "cell_type": "code",
      "source": [
        " install.packages(\"sandwich\")"
      ],
      "metadata": {
        "id": "Qa-ec3xibb58"
      },
      "execution_count": null,
      "outputs": []
    },
    {
      "cell_type": "code",
      "source": [
        " install.packages(\"rpart.plot\")"
      ],
      "metadata": {
        "id": "bX19Et34bmoC"
      },
      "execution_count": null,
      "outputs": []
    },
    {
      "cell_type": "code",
      "source": [
        "library(datasets)\n",
        "library(party)\n",
        "library(rpart.plot)"
      ],
      "metadata": {
        "id": "D21hFLavZ3Bt"
      },
      "execution_count": null,
      "outputs": []
    },
    {
      "cell_type": "code",
      "source": [
        "# Define train and test sets\n",
        "# Split the data into training and test sets\n",
        "set.seed(123)\n",
        "train_index <- sample(1:nrow(iris), size = 100)   # or floor(0.67* nrow(iris))\n",
        "train <- iris[train_index, ]\n",
        "test <- iris[-train_index, ]"
      ],
      "metadata": {
        "id": "lhJr9-QxaEcP"
      },
      "execution_count": null,
      "outputs": []
    },
    {
      "cell_type": "code",
      "source": [
        "# Train a decision tree model using rpart() function\n",
        "tree <- rpart(Species ~ ., data = train, method = \"class\")"
      ],
      "metadata": {
        "id": "bj6Cu__nZOvu"
      },
      "execution_count": null,
      "outputs": []
    },
    {
      "cell_type": "code",
      "source": [
        "print(tree)"
      ],
      "metadata": {
        "id": "KqtRIpDzfUba"
      },
      "execution_count": null,
      "outputs": []
    },
    {
      "cell_type": "code",
      "source": [
        "# Plot the decision tree\n",
        "rpart.plot(tree, main = \"Decision Tree for the Iris Dataset\")"
      ],
      "metadata": {
        "id": "CUjIAjKYb-GM"
      },
      "execution_count": null,
      "outputs": []
    },
    {
      "cell_type": "code",
      "source": [
        "tree_predict <-predict (tree ,newdata=test,type=\"class\")"
      ],
      "metadata": {
        "id": "r_-ia81tdm11"
      },
      "execution_count": null,
      "outputs": []
    },
    {
      "cell_type": "code",
      "source": [
        "print(tree_predict)"
      ],
      "metadata": {
        "id": "BYLGeUERhNvf"
      },
      "execution_count": null,
      "outputs": []
    },
    {
      "cell_type": "code",
      "source": [
        "table(tree_predict,test$Species)"
      ],
      "metadata": {
        "id": "MVjioV75dzrz"
      },
      "execution_count": null,
      "outputs": []
    },
    {
      "cell_type": "code",
      "source": [
        "# Accuracy rate\n",
        "tree_table <- table(tree_predict,test$Species)\n",
        "sum(diag(tree_table))/sum(tree_table)"
      ],
      "metadata": {
        "id": "WOzglbXaxa4m"
      },
      "execution_count": null,
      "outputs": []
    },
    {
      "cell_type": "markdown",
      "source": [
        "---\n",
        "---"
      ],
      "metadata": {
        "id": "SZnSDbkphZkH"
      }
    },
    {
      "cell_type": "markdown",
      "source": [
        "# **Clustering**\n",
        "\n",
        "We explore the **K-means** clustering algorithm in R using the **`IRIS`** dataset."
      ],
      "metadata": {
        "id": "c-FMQaRUidhd"
      }
    },
    {
      "cell_type": "code",
      "source": [
        "library(cluster)\n",
        "library(ggplot2)"
      ],
      "metadata": {
        "id": "Peayejxoha0E"
      },
      "execution_count": null,
      "outputs": []
    },
    {
      "cell_type": "code",
      "source": [
        "df <- iris\n",
        "head(iris)"
      ],
      "metadata": {
        "id": "8MhaLT98jXQf"
      },
      "execution_count": null,
      "outputs": []
    },
    {
      "cell_type": "code",
      "source": [
        "ggplot(df, aes(Petal.Length, Petal.Width)) + geom_point(aes(col=Species), size=4)"
      ],
      "metadata": {
        "id": "MUh1_U3hjoKi"
      },
      "execution_count": null,
      "outputs": []
    },
    {
      "cell_type": "code",
      "source": [
        "set.seed(101)\n",
        "irisCluster <- kmeans(df[,1:4], center=3, nstart=20)\n",
        "irisCluster"
      ],
      "metadata": {
        "id": "10PCP1ytkHZS"
      },
      "execution_count": null,
      "outputs": []
    },
    {
      "cell_type": "code",
      "source": [
        "table(irisCluster$cluster, df$Species)"
      ],
      "metadata": {
        "id": "0I2GQBUpkRTE"
      },
      "execution_count": null,
      "outputs": []
    },
    {
      "cell_type": "code",
      "source": [
        "clusplot(iris, irisCluster$cluster, color=T, shade=T, labels=0, lines=0)"
      ],
      "metadata": {
        "id": "uxlkW5n2kXGx"
      },
      "execution_count": null,
      "outputs": []
    },
    {
      "cell_type": "markdown",
      "source": [
        "The number of clusters (𝑘) needed in k-means clustering depends on the dataset and the underlying structure of the data. There is no fixed rule, but several methods (e.g. Elbow method) can help determine an optimal\n",
        "\n",
        "\n",
        "**Elbow Method:**\n",
        "\n",
        "*   Plot the sum of squared distances (inertia) against different values of `k`\n",
        "*   The \"*elbow point* \", where the rate of decrease sharply changes, suggests a good choice for `k`."
      ],
      "metadata": {
        "id": "_tk5PhQql37n"
      }
    },
    {
      "cell_type": "code",
      "source": [
        "round(irisCluster$withinss, 2)\n",
        "round(irisCluster$tot.withinss, 2)"
      ],
      "metadata": {
        "id": "2O2Ji6N-nPNc"
      },
      "execution_count": null,
      "outputs": []
    },
    {
      "cell_type": "code",
      "source": [
        "23.88 + 39.82+ 15.15"
      ],
      "metadata": {
        "id": "s1PyZ1KQnwkI"
      },
      "execution_count": null,
      "outputs": []
    },
    {
      "cell_type": "code",
      "source": [
        "# How many clusters are needed?\n",
        "tot.withinss <- vector(mode=\"character\", length=10)\n",
        "for (i in 1:10){\n",
        "  irisCluster <- kmeans(df[,1:4], center=i, nstart=20)\n",
        "  tot.withinss[i] <- irisCluster$tot.withinss\n",
        "}"
      ],
      "metadata": {
        "id": "LGmCu276lXnh"
      },
      "execution_count": null,
      "outputs": []
    },
    {
      "cell_type": "code",
      "source": [
        "tot.withinss"
      ],
      "metadata": {
        "id": "aYaeeYG-n7SX"
      },
      "execution_count": null,
      "outputs": []
    },
    {
      "cell_type": "code",
      "source": [
        "plot(1:10, tot.withinss, type=\"b\", xlab=\"Number of Clusters\", pch=19)"
      ],
      "metadata": {
        "id": "BRab0vxxn9r5"
      },
      "execution_count": null,
      "outputs": []
    }
  ]
}